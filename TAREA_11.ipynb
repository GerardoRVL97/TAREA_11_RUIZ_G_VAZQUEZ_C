{
 "cells": [
  {
   "cell_type": "markdown",
   "metadata": {},
   "source": [
    "<img style=\"float: left; margin: 30px 15px 15px 15px;\" src=\"https://pngimage.net/wp-content/uploads/2018/06/logo-iteso-png-5.png\" width=\"300\" height=\"500\" /> \n",
    "    \n",
    "    \n",
    "### <font color='navy'> Simulación de procesos financieros. \n",
    "\n",
    "**Nombres:** Cristina Vazquez, Gerardo Ruiz Velasco Lazalde.\n",
    "\n",
    "**Fecha:** 7 de mayo del 2021.\n",
    "\n",
    "**Expediente** : 721215 ,715878 .\n",
    "**Profesor:** Oscar David Jaramillo Zuluaga.\n",
    "\n",
    "**Link repositorio: https://github.com/GerardoRVL97/TAREA_11_RUIZ_G_VAZQUEZ_C **\n",
    "\n",
    "# Tarea 11: Clase:24 Valuacion Opciones Barrera"
   ]
  },
  {
   "cell_type": "markdown",
   "metadata": {},
   "source": [
    "# Tarea\n",
    "Realizar la valuación de las opciones barrera para las acciones de Microsoft, siguiendo los siguientes lineamientos:\n",
    "1. Realizar la valuación para el tipo de opción barrera 'CALL'- down-and-out, usando la suposición de rendimientos normales y usando el método del histograma. Para ambas valuaciones, comparar los resultados de la evaluación obtenida con los resultados obtenidos por la valuación Europea. Como se realizó en clase.\n",
    "2. Repetir el inciso anterior pero en esta ocasión para el caso de 'PUT'- Up-and-out.\n",
    "\n",
    "**Nota:** Analice los datos descargados y según el método ya sea `down-and-out` o `Up-and-out` defina un strike price usando la volatility smile vista en la clase de opciones europeas y basado en el spot price y el strike defina una barrera adecuada.\n",
    "\n",
    "Se habilitará un enlace en canvas para subir un cuaderno de python, con la solución.\n",
    "\n",
    "**Criterio de revisión.**\n",
    "\n",
    "> Se te calificará de acuerdo a los resultados finales que reportes, basados en tu análisis."
   ]
  },
  {
   "cell_type": "code",
   "execution_count": null,
   "metadata": {},
   "outputs": [],
   "source": [
    "def Riemann_approach_Trap(K:'Strike price',r:'Tasa libre de riesgo',S0:'Precio inicial',\n",
    "                     NbTraj:'Número trayectorias',NbStep:'Cantidad de pasos a simular',\n",
    "                     sigma:'Volatilidad',T:'Tiempo de cierre del contrato en años',tipo:'call o put',\n",
    "                    flag=None):\n",
    "    t_emp = time.time()\n",
    "    # Resolvemos la ecuación de black scholes para obtener los precios\n",
    "    St,t = BSprices(r,sigma,S0,NbTraj,NbStep)\n",
    "    # Almacenamos los precios en un dataframe\n",
    "    prices = pd.DataFrame(St,index=t)\n",
    "    # Creamos el segundo DataFrame\n",
    "    mult= pd.DataFrame(2+r*(T/NbStep)+np.random.randn(NbTraj,NbStep)*sigma).T\n",
    "    # Multiplicamos los dataframes\n",
    "    prices_mult= prices*mult\n",
    "    # Hacemos la sumatoria\n",
    "    sumprices_mult = np.cumsum(prices_mult)\n",
    "    # Multiplicamos por h/2 \n",
    "    sumatoria = sumprices_mult*(1/NbStep)*(1/2)*(1/T)\n",
    "    # Definimos el dataframe de strikes\n",
    "    strike = pd.DataFrame(K*np.ones([NbStep,NbTraj]), index=t)\n",
    "    if tipo =='call':\n",
    "        # Calculamos el call de la opción según la formula obtenida para Sumas de Riemann\n",
    "        valor = pd.DataFrame({'Prima':np.exp(-r*T) \\\n",
    "                             *np.fmax(sumatoria-strike,np.zeros([NbStep,NbTraj])).mean(axis=1)}, index=t)\n",
    "        # intervalos de confianza\n",
    "        #confianza = 0.95\n",
    "        #sigma_est = call.sem().Prima\n",
    "        #mean_est = call.iloc[-1].Prima\n",
    "        #i1 = st.norm.interval(confianza, loc=mean_est, scale=sigma_est)\n",
    "        #return call.iloc[-1].Prima, i1\n",
    "    else:\n",
    "        valor = pd.DataFrame({'Prima':np.exp(-r*T) \\\n",
    "                 *np.fmax(strike-sumatoria,np.zeros([NbStep,NbTraj])).mean(axis=1)}, index=t)\n",
    "        # intervalos de confianza\n",
    "    confianza = 0.95\n",
    "    sigma_est = valor.sem().Prima\n",
    "    mean_est = valor.iloc[-1].Prima\n",
    "    i1 = st.norm.interval(confianza, loc=mean_est, scale=sigma_est)\n",
    "    dif95 = np.round(i1[1] - i1[0],4)\n",
    "    t_acab = time.time()\n",
    "    e = int(t_acab - t_emp)\n",
    "    time_format = '{:02d}:{:02d}'.format((e % 3600 // 60), e % 60)\n",
    "    tiempo = lambda x: '< 1 s' if x == '00:00' else x\n",
    "    return np.array([np.round(valor.iloc[-1].Prima,4),np.round(i1[0],4),np.round(i1[1],4),dif95,\n",
    "                     tiempo(time_format)])\n",
    "    #return .iloc[-1].Prima, i1"
   ]
  }
 ],
 "metadata": {
  "kernelspec": {
   "display_name": "Python 3",
   "language": "python",
   "name": "python3"
  },
  "language_info": {
   "codemirror_mode": {
    "name": "ipython",
    "version": 3
   },
   "file_extension": ".py",
   "mimetype": "text/x-python",
   "name": "python",
   "nbconvert_exporter": "python",
   "pygments_lexer": "ipython3",
   "version": "3.7.1"
  }
 },
 "nbformat": 4,
 "nbformat_minor": 2
}
