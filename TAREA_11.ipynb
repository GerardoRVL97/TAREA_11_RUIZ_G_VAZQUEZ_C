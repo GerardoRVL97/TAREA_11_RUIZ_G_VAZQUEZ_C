{
 "cells": [
  {
   "cell_type": "markdown",
   "metadata": {},
   "source": [
    "<img style=\"float: left; margin: 30px 15px 15px 15px;\" src=\"https://pngimage.net/wp-content/uploads/2018/06/logo-iteso-png-5.png\" width=\"300\" height=\"500\" /> \n",
    "    \n",
    "    \n",
    "### <font color='navy'> Simulación de procesos financieros. \n",
    "\n",
    "**Nombres:** Cristina Vazquez, Gerardo Ruiz Velasco Lazalde.\n",
    "\n",
    "**Fecha:** 7 de mayo del 2021.\n",
    "\n",
    "**Expediente** : 721215 ,715878 .\n",
    "**Profesor:** Oscar David Jaramillo Zuluaga.\n",
    "\n",
    "**Link repositorio: https://github.com/GerardoRVL97/TAREA_11_RUIZ_G_VAZQUEZ_C **\n",
    "\n",
    "# Tarea 11: Clase:24 Valuacion Opciones Barrera"
   ]
  },
  {
   "cell_type": "markdown",
   "metadata": {},
   "source": [
    "# Tarea\n",
    "Realizar la valuación de las opciones barrera para las acciones de Microsoft, siguiendo los siguientes lineamientos:\n",
    "1. Realizar la valuación para el tipo de opción barrera 'CALL'- down-and-out, usando la suposición de rendimientos normales y usando el método del histograma. Para ambas valuaciones, comparar los resultados de la evaluación obtenida con los resultados obtenidos por la valuación Europea. Como se realizó en clase.\n",
    "2. Repetir el inciso anterior pero en esta ocasión para el caso de 'PUT'- Up-and-out.\n",
    "\n",
    "**Nota:** Analice los datos descargados y según el método ya sea `down-and-out` o `Up-and-out` defina un strike price usando la volatility smile vista en la clase de opciones europeas y basado en el spot price y el strike defina una barrera adecuada.\n",
    "\n",
    "Se habilitará un enlace en canvas para subir un cuaderno de python, con la solución.\n",
    "\n",
    "**Criterio de revisión.**\n",
    "\n",
    "> Se te calificará de acuerdo a los resultados finales que reportes, basados en tu análisis."
   ]
  },
  {
   "cell_type": "markdown",
   "metadata": {},
   "source": [
    "### TEORIA??"
   ]
  },
  {
   "cell_type": "code",
<<<<<<< Updated upstream
   "execution_count": 26,
=======
   "execution_count": 2,
   "metadata": {},
   "outputs": [],
   "source": [
    "#importar los paquetes que se van a usar\n",
    "import pandas as pd\n",
    "import pandas_datareader.data as web\n",
    "import numpy as np\n",
    "from sklearn.neighbors import KernelDensity\n",
    "import datetime\n",
    "from datetime import datetime, timedelta\n",
    "import scipy.stats as st\n",
    "import scipy as sp\n",
    "import scipy.optimize as optimize\n",
    "import scipy.cluster.hierarchy as hac\n",
    "import matplotlib.pyplot as plt\n",
    "import seaborn as sns\n",
    "%matplotlib inline\n",
    "#algunas opciones para Python\n",
    "pd.set_option('display.notebook_repr_html', True)\n",
    "pd.set_option('display.max_columns', 6)\n",
    "pd.set_option('display.max_rows', 10)\n",
    "pd.set_option('display.width', 78)\n",
    "pd.set_option('precision', 3)"
   ]
  },
  {
   "cell_type": "code",
   "execution_count": 3,
   "metadata": {},
   "outputs": [],
   "source": [
    "# Función para descargar precios de cierre ajustados:\n",
    "def get_adj_closes(tickers, start_date=None, end_date=None):\n",
    "    # Fecha inicio por defecto (start_date='2010-01-01') y fecha fin por defecto (end_date=today)\n",
    "    # Descargamos DataFrame con todos los datos\n",
    "    closes = web.DataReader(name=tickers, data_source='yahoo', start=start_date, end=end_date)\n",
    "    # Solo necesitamos los precios ajustados en el cierre\n",
    "    closes = closes['Adj Close']\n",
    "    # Se ordenan los índices de manera ascendente\n",
    "    closes.sort_index(inplace=True)\n",
    "    return closes\n",
    "\n",
    "####### Calculation of log-returns\n",
    "def calc_daily_ret(closes):\n",
    "    return np.log(closes/closes.shift(1)).dropna()"
   ]
  },
  {
   "cell_type": "code",
   "execution_count": 24,
   "metadata": {},
   "outputs": [
    {
     "data": {
      "text/plain": [
       "Date\n",
       "2017-01-03     58.538\n",
       "2017-01-04     58.276\n",
       "2017-01-05     58.276\n",
       "2017-01-06     58.782\n",
       "2017-01-09     58.595\n",
       "               ...   \n",
       "2021-05-03    251.860\n",
       "2021-05-04    247.790\n",
       "2021-05-05    246.470\n",
       "2021-05-06    249.730\n",
       "2021-05-07    252.427\n",
       "Name: MSFT, Length: 1094, dtype: float64"
      ]
     },
     "execution_count": 24,
     "metadata": {},
     "output_type": "execute_result"
    }
   ],
   "source": [
    "closes = get_adj_closes(['MSFT'], '2017-01-01')\n",
    "closes_appl = closes.loc[:,'MSFT']\n",
    "closes_appl"
   ]
  },
  {
   "cell_type": "code",
   "execution_count": 26,
   "metadata": {
    "scrolled": true
   },
   "outputs": [
    {
     "data": {
      "image/png": "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\n",
      "text/plain": [
       "<Figure size 576x432 with 1 Axes>"
      ]
     },
     "metadata": {
      "needs_background": "light"
     },
     "output_type": "display_data"
    }
   ],
   "source": [
    "closes_appl.plot(figsize=(8,6));"
   ]
  },
  {
   "cell_type": "code",
   "execution_count": 56,
>>>>>>> Stashed changes
   "metadata": {},
   "outputs": [],
   "source": [
    "ret_appl = calc_daily_ret(closes_appl)"
   ]
  },
  {
   "cell_type": "code",
   "execution_count": 57,
   "metadata": {},
   "outputs": [
    {
     "data": {
      "text/html": [
       "<div>\n",
       "<style scoped>\n",
       "    .dataframe tbody tr th:only-of-type {\n",
       "        vertical-align: middle;\n",
       "    }\n",
       "\n",
       "    .dataframe tbody tr th {\n",
       "        vertical-align: top;\n",
       "    }\n",
       "\n",
       "    .dataframe thead th {\n",
       "        text-align: right;\n",
       "    }\n",
       "</style>\n",
       "<table border=\"1\" class=\"dataframe\">\n",
       "  <thead>\n",
       "    <tr style=\"text-align: right;\">\n",
       "      <th></th>\n",
       "      <th>Strike</th>\n",
       "      <th>Type</th>\n",
       "      <th>Symbol</th>\n",
       "      <th>...</th>\n",
       "      <th>Quote_Time</th>\n",
       "      <th>Last_Trade_Date</th>\n",
       "      <th>JSON</th>\n",
       "    </tr>\n",
       "    <tr>\n",
       "      <th>Expiry</th>\n",
       "      <th></th>\n",
       "      <th></th>\n",
       "      <th></th>\n",
       "      <th></th>\n",
       "      <th></th>\n",
       "      <th></th>\n",
       "      <th></th>\n",
       "    </tr>\n",
       "  </thead>\n",
       "  <tbody>\n",
       "    <tr>\n",
       "      <th>2021-05-07</th>\n",
       "      <td>200.0</td>\n",
       "      <td>call</td>\n",
       "      <td>MSFT210507C00200000</td>\n",
       "      <td>...</td>\n",
       "      <td>2021-05-07 20:00:02</td>\n",
       "      <td>2021-05-05 19:00:24</td>\n",
       "      <td>{'contractSymbol': 'MSFT210507C00200000', 'str...</td>\n",
       "    </tr>\n",
       "    <tr>\n",
       "      <th>2021-05-07</th>\n",
       "      <td>155.0</td>\n",
       "      <td>put</td>\n",
       "      <td>MSFT210507P00155000</td>\n",
       "      <td>...</td>\n",
       "      <td>2021-05-07 20:00:02</td>\n",
       "      <td>2021-04-23 17:46:50</td>\n",
       "      <td>{'contractSymbol': 'MSFT210507P00155000', 'str...</td>\n",
       "    </tr>\n",
       "    <tr>\n",
       "      <th>2021-05-07</th>\n",
       "      <td>120.0</td>\n",
       "      <td>put</td>\n",
       "      <td>MSFT210507P00120000</td>\n",
       "      <td>...</td>\n",
       "      <td>2021-05-07 20:00:02</td>\n",
       "      <td>2021-05-03 13:30:01</td>\n",
       "      <td>{'contractSymbol': 'MSFT210507P00120000', 'str...</td>\n",
       "    </tr>\n",
       "    <tr>\n",
       "      <th>2021-05-07</th>\n",
       "      <td>120.0</td>\n",
       "      <td>call</td>\n",
       "      <td>MSFT210507C00120000</td>\n",
       "      <td>...</td>\n",
       "      <td>2021-05-07 20:00:02</td>\n",
       "      <td>2021-05-06 19:59:12</td>\n",
       "      <td>{'contractSymbol': 'MSFT210507C00120000', 'str...</td>\n",
       "    </tr>\n",
       "    <tr>\n",
       "      <th>2021-05-07</th>\n",
       "      <td>252.5</td>\n",
       "      <td>put</td>\n",
       "      <td>MSFT210507P00252500</td>\n",
       "      <td>...</td>\n",
       "      <td>2021-05-07 20:00:02</td>\n",
       "      <td>2021-05-07 19:59:33</td>\n",
       "      <td>{'contractSymbol': 'MSFT210507P00252500', 'str...</td>\n",
       "    </tr>\n",
       "    <tr>\n",
       "      <th>...</th>\n",
       "      <td>...</td>\n",
       "      <td>...</td>\n",
       "      <td>...</td>\n",
       "      <td>...</td>\n",
       "      <td>...</td>\n",
       "      <td>...</td>\n",
       "      <td>...</td>\n",
       "    </tr>\n",
       "    <tr>\n",
       "      <th>2023-06-16</th>\n",
       "      <td>285.0</td>\n",
       "      <td>call</td>\n",
       "      <td>MSFT230616C00285000</td>\n",
       "      <td>...</td>\n",
       "      <td>2021-05-07 20:00:02</td>\n",
       "      <td>2021-05-07 18:10:49</td>\n",
       "      <td>{'contractSymbol': 'MSFT230616C00285000', 'str...</td>\n",
       "    </tr>\n",
       "    <tr>\n",
       "      <th>2023-06-16</th>\n",
       "      <td>285.0</td>\n",
       "      <td>put</td>\n",
       "      <td>MSFT230616P00285000</td>\n",
       "      <td>...</td>\n",
       "      <td>2021-05-07 20:00:02</td>\n",
       "      <td>2021-04-29 19:07:08</td>\n",
       "      <td>{'contractSymbol': 'MSFT230616P00285000', 'str...</td>\n",
       "    </tr>\n",
       "    <tr>\n",
       "      <th>2023-06-16</th>\n",
       "      <td>290.0</td>\n",
       "      <td>call</td>\n",
       "      <td>MSFT230616C00290000</td>\n",
       "      <td>...</td>\n",
       "      <td>2021-05-07 20:00:02</td>\n",
       "      <td>2021-05-07 13:40:37</td>\n",
       "      <td>{'contractSymbol': 'MSFT230616C00290000', 'str...</td>\n",
       "    </tr>\n",
       "    <tr>\n",
       "      <th>2023-06-16</th>\n",
       "      <td>295.0</td>\n",
       "      <td>call</td>\n",
       "      <td>MSFT230616C00295000</td>\n",
       "      <td>...</td>\n",
       "      <td>2021-05-07 20:00:02</td>\n",
       "      <td>2021-05-05 17:11:28</td>\n",
       "      <td>{'contractSymbol': 'MSFT230616C00295000', 'str...</td>\n",
       "    </tr>\n",
       "    <tr>\n",
       "      <th>2023-06-16</th>\n",
       "      <td>390.0</td>\n",
       "      <td>put</td>\n",
       "      <td>MSFT230616P00390000</td>\n",
       "      <td>...</td>\n",
       "      <td>2021-05-07 20:00:02</td>\n",
       "      <td>2021-04-30 17:09:46</td>\n",
       "      <td>{'contractSymbol': 'MSFT230616P00390000', 'str...</td>\n",
       "    </tr>\n",
       "  </tbody>\n",
       "</table>\n",
       "<p>1876 rows × 18 columns</p>\n",
       "</div>"
      ],
      "text/plain": [
       "            Strike  Type               Symbol  ...          Quote_Time  \\\n",
       "Expiry                                         ...                       \n",
       "2021-05-07   200.0  call  MSFT210507C00200000  ... 2021-05-07 20:00:02   \n",
       "2021-05-07   155.0   put  MSFT210507P00155000  ... 2021-05-07 20:00:02   \n",
       "2021-05-07   120.0   put  MSFT210507P00120000  ... 2021-05-07 20:00:02   \n",
       "2021-05-07   120.0  call  MSFT210507C00120000  ... 2021-05-07 20:00:02   \n",
       "2021-05-07   252.5   put  MSFT210507P00252500  ... 2021-05-07 20:00:02   \n",
       "...            ...   ...                  ...  ...                 ...   \n",
       "2023-06-16   285.0  call  MSFT230616C00285000  ... 2021-05-07 20:00:02   \n",
       "2023-06-16   285.0   put  MSFT230616P00285000  ... 2021-05-07 20:00:02   \n",
       "2023-06-16   290.0  call  MSFT230616C00290000  ... 2021-05-07 20:00:02   \n",
       "2023-06-16   295.0  call  MSFT230616C00295000  ... 2021-05-07 20:00:02   \n",
       "2023-06-16   390.0   put  MSFT230616P00390000  ... 2021-05-07 20:00:02   \n",
       "\n",
       "               Last_Trade_Date  \\\n",
       "Expiry                           \n",
       "2021-05-07 2021-05-05 19:00:24   \n",
       "2021-05-07 2021-04-23 17:46:50   \n",
       "2021-05-07 2021-05-03 13:30:01   \n",
       "2021-05-07 2021-05-06 19:59:12   \n",
       "2021-05-07 2021-05-07 19:59:33   \n",
       "...                        ...   \n",
       "2023-06-16 2021-05-07 18:10:49   \n",
       "2023-06-16 2021-04-29 19:07:08   \n",
       "2023-06-16 2021-05-07 13:40:37   \n",
       "2023-06-16 2021-05-05 17:11:28   \n",
       "2023-06-16 2021-04-30 17:09:46   \n",
       "\n",
       "                                                         JSON  \n",
       "Expiry                                                         \n",
       "2021-05-07  {'contractSymbol': 'MSFT210507C00200000', 'str...  \n",
       "2021-05-07  {'contractSymbol': 'MSFT210507P00155000', 'str...  \n",
       "2021-05-07  {'contractSymbol': 'MSFT210507P00120000', 'str...  \n",
       "2021-05-07  {'contractSymbol': 'MSFT210507C00120000', 'str...  \n",
       "2021-05-07  {'contractSymbol': 'MSFT210507P00252500', 'str...  \n",
       "...                                                       ...  \n",
       "2023-06-16  {'contractSymbol': 'MSFT230616C00285000', 'str...  \n",
       "2023-06-16  {'contractSymbol': 'MSFT230616P00285000', 'str...  \n",
       "2023-06-16  {'contractSymbol': 'MSFT230616C00290000', 'str...  \n",
       "2023-06-16  {'contractSymbol': 'MSFT230616C00295000', 'str...  \n",
       "2023-06-16  {'contractSymbol': 'MSFT230616P00390000', 'str...  \n",
       "\n",
       "[1876 rows x 18 columns]"
      ]
     },
     "execution_count": 57,
     "metadata": {},
     "output_type": "execute_result"
    }
   ],
   "source": [
    "pd.set_option('display.max_rows', 10)\n",
    "\n",
    "appl = web.YahooOptions('MSFT')\n",
    "appl_opt = appl.get_all_data().reset_index()\n",
    "appl_opt.set_index('Expiry').sort_index()#.head(1000)"
   ]
  },
  {
   "cell_type": "code",
<<<<<<< Updated upstream
   "execution_count": 27,
   "metadata": {},
   "outputs": [],
   "source": [
    "#importar los paquetes que se van a usar\n",
    "import pandas as pd\n",
    "import pandas_datareader.data as web\n",
    "import numpy as np\n",
    "from sklearn.neighbors import KernelDensity\n",
    "import datetime\n",
    "from datetime import datetime, timedelta\n",
    "import scipy.stats as st\n",
    "import scipy as sp\n",
    "import scipy.optimize as optimize\n",
    "import scipy.cluster.hierarchy as hac\n",
    "import matplotlib.pyplot as plt\n",
    "import seaborn as sns\n",
    "%matplotlib inline\n",
    "#algunas opciones para Python\n",
    "pd.set_option('display.notebook_repr_html', True)\n",
    "pd.set_option('display.max_columns', 6)\n",
    "pd.set_option('display.max_rows', 10)\n",
    "pd.set_option('display.width', 78)\n",
    "pd.set_option('precision', 3)"
=======
   "execution_count": 58,
   "metadata": {},
   "outputs": [
    {
     "data": {
      "text/html": [
       "<div>\n",
       "<style scoped>\n",
       "    .dataframe tbody tr th:only-of-type {\n",
       "        vertical-align: middle;\n",
       "    }\n",
       "\n",
       "    .dataframe tbody tr th {\n",
       "        vertical-align: top;\n",
       "    }\n",
       "\n",
       "    .dataframe thead th {\n",
       "        text-align: right;\n",
       "    }\n",
       "</style>\n",
       "<table border=\"1\" class=\"dataframe\">\n",
       "  <thead>\n",
       "    <tr style=\"text-align: right;\">\n",
       "      <th></th>\n",
       "      <th>Strike</th>\n",
       "      <th>Expiry</th>\n",
       "      <th>Type</th>\n",
       "      <th>...</th>\n",
       "      <th>Quote_Time</th>\n",
       "      <th>Last_Trade_Date</th>\n",
       "      <th>JSON</th>\n",
       "    </tr>\n",
       "  </thead>\n",
       "  <tbody>\n",
       "    <tr>\n",
       "      <th>52</th>\n",
       "      <td>100.0</td>\n",
       "      <td>2021-09-17</td>\n",
       "      <td>call</td>\n",
       "      <td>...</td>\n",
       "      <td>2021-05-07 20:00:02</td>\n",
       "      <td>2021-04-09 15:49:31</td>\n",
       "      <td>{'contractSymbol': 'MSFT210917C00100000', 'str...</td>\n",
       "    </tr>\n",
       "    <tr>\n",
       "      <th>64</th>\n",
       "      <td>105.0</td>\n",
       "      <td>2021-09-17</td>\n",
       "      <td>call</td>\n",
       "      <td>...</td>\n",
       "      <td>2021-05-07 20:00:02</td>\n",
       "      <td>2021-04-09 16:45:11</td>\n",
       "      <td>{'contractSymbol': 'MSFT210917C00105000', 'str...</td>\n",
       "    </tr>\n",
       "    <tr>\n",
       "      <th>78</th>\n",
       "      <td>110.0</td>\n",
       "      <td>2021-09-17</td>\n",
       "      <td>call</td>\n",
       "      <td>...</td>\n",
       "      <td>2021-05-07 20:00:02</td>\n",
       "      <td>2021-04-09 15:48:16</td>\n",
       "      <td>{'contractSymbol': 'MSFT210917C00110000', 'str...</td>\n",
       "    </tr>\n",
       "    <tr>\n",
       "      <th>99</th>\n",
       "      <td>115.0</td>\n",
       "      <td>2021-09-17</td>\n",
       "      <td>call</td>\n",
       "      <td>...</td>\n",
       "      <td>2021-05-07 20:00:02</td>\n",
       "      <td>2021-02-26 20:01:59</td>\n",
       "      <td>{'contractSymbol': 'MSFT210917C00115000', 'str...</td>\n",
       "    </tr>\n",
       "    <tr>\n",
       "      <th>126</th>\n",
       "      <td>120.0</td>\n",
       "      <td>2021-09-17</td>\n",
       "      <td>call</td>\n",
       "      <td>...</td>\n",
       "      <td>2021-05-07 20:00:02</td>\n",
       "      <td>2021-04-09 16:27:07</td>\n",
       "      <td>{'contractSymbol': 'MSFT210917C00120000', 'str...</td>\n",
       "    </tr>\n",
       "    <tr>\n",
       "      <th>...</th>\n",
       "      <td>...</td>\n",
       "      <td>...</td>\n",
       "      <td>...</td>\n",
       "      <td>...</td>\n",
       "      <td>...</td>\n",
       "      <td>...</td>\n",
       "      <td>...</td>\n",
       "    </tr>\n",
       "    <tr>\n",
       "      <th>1753</th>\n",
       "      <td>355.0</td>\n",
       "      <td>2021-09-17</td>\n",
       "      <td>call</td>\n",
       "      <td>...</td>\n",
       "      <td>2021-05-07 20:00:02</td>\n",
       "      <td>2021-05-04 19:32:36</td>\n",
       "      <td>{'contractSymbol': 'MSFT210917C00355000', 'str...</td>\n",
       "    </tr>\n",
       "    <tr>\n",
       "      <th>1775</th>\n",
       "      <td>360.0</td>\n",
       "      <td>2021-09-17</td>\n",
       "      <td>call</td>\n",
       "      <td>...</td>\n",
       "      <td>2021-05-07 20:00:02</td>\n",
       "      <td>2021-04-29 16:54:33</td>\n",
       "      <td>{'contractSymbol': 'MSFT210917C00360000', 'str...</td>\n",
       "    </tr>\n",
       "    <tr>\n",
       "      <th>1811</th>\n",
       "      <td>370.0</td>\n",
       "      <td>2021-09-17</td>\n",
       "      <td>call</td>\n",
       "      <td>...</td>\n",
       "      <td>2021-05-07 20:00:02</td>\n",
       "      <td>2021-05-03 14:13:00</td>\n",
       "      <td>{'contractSymbol': 'MSFT210917C00370000', 'str...</td>\n",
       "    </tr>\n",
       "    <tr>\n",
       "      <th>1845</th>\n",
       "      <td>380.0</td>\n",
       "      <td>2021-09-17</td>\n",
       "      <td>call</td>\n",
       "      <td>...</td>\n",
       "      <td>2021-05-07 20:00:02</td>\n",
       "      <td>2021-05-04 18:05:35</td>\n",
       "      <td>{'contractSymbol': 'MSFT210917C00380000', 'str...</td>\n",
       "    </tr>\n",
       "    <tr>\n",
       "      <th>1863</th>\n",
       "      <td>390.0</td>\n",
       "      <td>2021-09-17</td>\n",
       "      <td>call</td>\n",
       "      <td>...</td>\n",
       "      <td>2021-05-07 20:00:02</td>\n",
       "      <td>2021-04-26 15:14:56</td>\n",
       "      <td>{'contractSymbol': 'MSFT210917C00390000', 'str...</td>\n",
       "    </tr>\n",
       "  </tbody>\n",
       "</table>\n",
       "<p>56 rows × 19 columns</p>\n",
       "</div>"
      ],
      "text/plain": [
       "      Strike     Expiry  Type  ...          Quote_Time     Last_Trade_Date  \\\n",
       "52     100.0 2021-09-17  call  ... 2021-05-07 20:00:02 2021-04-09 15:49:31   \n",
       "64     105.0 2021-09-17  call  ... 2021-05-07 20:00:02 2021-04-09 16:45:11   \n",
       "78     110.0 2021-09-17  call  ... 2021-05-07 20:00:02 2021-04-09 15:48:16   \n",
       "99     115.0 2021-09-17  call  ... 2021-05-07 20:00:02 2021-02-26 20:01:59   \n",
       "126    120.0 2021-09-17  call  ... 2021-05-07 20:00:02 2021-04-09 16:27:07   \n",
       "...      ...        ...   ...  ...                 ...                 ...   \n",
       "1753   355.0 2021-09-17  call  ... 2021-05-07 20:00:02 2021-05-04 19:32:36   \n",
       "1775   360.0 2021-09-17  call  ... 2021-05-07 20:00:02 2021-04-29 16:54:33   \n",
       "1811   370.0 2021-09-17  call  ... 2021-05-07 20:00:02 2021-05-03 14:13:00   \n",
       "1845   380.0 2021-09-17  call  ... 2021-05-07 20:00:02 2021-05-04 18:05:35   \n",
       "1863   390.0 2021-09-17  call  ... 2021-05-07 20:00:02 2021-04-26 15:14:56   \n",
       "\n",
       "                                                   JSON  \n",
       "52    {'contractSymbol': 'MSFT210917C00100000', 'str...  \n",
       "64    {'contractSymbol': 'MSFT210917C00105000', 'str...  \n",
       "78    {'contractSymbol': 'MSFT210917C00110000', 'str...  \n",
       "99    {'contractSymbol': 'MSFT210917C00115000', 'str...  \n",
       "126   {'contractSymbol': 'MSFT210917C00120000', 'str...  \n",
       "...                                                 ...  \n",
       "1753  {'contractSymbol': 'MSFT210917C00355000', 'str...  \n",
       "1775  {'contractSymbol': 'MSFT210917C00360000', 'str...  \n",
       "1811  {'contractSymbol': 'MSFT210917C00370000', 'str...  \n",
       "1845  {'contractSymbol': 'MSFT210917C00380000', 'str...  \n",
       "1863  {'contractSymbol': 'MSFT210917C00390000', 'str...  \n",
       "\n",
       "[56 rows x 19 columns]"
      ]
     },
     "execution_count": 58,
     "metadata": {},
     "output_type": "execute_result"
    }
   ],
   "source": [
    "\n",
    "opt_deseada = appl_opt.loc[(appl_opt.Type=='call') &  (appl_opt.Expiry=='2021-09-17')]\n",
    "opt_deseada"
   ]
  },
  {
   "cell_type": "code",
   "execution_count": 59,
   "metadata": {},
   "outputs": [
    {
     "data": {
      "image/png": "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\n",
      "text/plain": [
       "<Figure size 576x432 with 1 Axes>"
      ]
     },
     "metadata": {
      "needs_background": "light"
     },
     "output_type": "display_data"
    }
   ],
   "source": [
    "# para los call de la fecha 1\n",
    "ax = opt_deseada.set_index('Strike').loc[:, 'IV'].plot(figsize=(8,6))\n",
    "ax.axvline(opt_deseada.Underlying_Price.iloc[0], color='g');"
   ]
  },
  {
   "cell_type": "markdown",
   "metadata": {},
   "source": [
    "Elegimos un strike price de 255 ya que es más un poco más grande que el avlor que se observa en la gráfica."
   ]
  },
  {
   "cell_type": "code",
   "execution_count": 60,
   "metadata": {},
   "outputs": [
    {
     "data": {
      "text/html": [
       "<div>\n",
       "<style scoped>\n",
       "    .dataframe tbody tr th:only-of-type {\n",
       "        vertical-align: middle;\n",
       "    }\n",
       "\n",
       "    .dataframe tbody tr th {\n",
       "        vertical-align: top;\n",
       "    }\n",
       "\n",
       "    .dataframe thead th {\n",
       "        text-align: right;\n",
       "    }\n",
       "</style>\n",
       "<table border=\"1\" class=\"dataframe\">\n",
       "  <thead>\n",
       "    <tr style=\"text-align: right;\">\n",
       "      <th></th>\n",
       "      <th>Strike</th>\n",
       "      <th>Expiry</th>\n",
       "      <th>Type</th>\n",
       "      <th>...</th>\n",
       "      <th>Quote_Time</th>\n",
       "      <th>Last_Trade_Date</th>\n",
       "      <th>JSON</th>\n",
       "    </tr>\n",
       "  </thead>\n",
       "  <tbody>\n",
       "    <tr>\n",
       "      <th>1088</th>\n",
       "      <td>255.0</td>\n",
       "      <td>2021-09-17</td>\n",
       "      <td>call</td>\n",
       "      <td>...</td>\n",
       "      <td>2021-05-07 20:00:02</td>\n",
       "      <td>2021-05-07 19:36:57</td>\n",
       "      <td>{'contractSymbol': 'MSFT210917C00255000', 'str...</td>\n",
       "    </tr>\n",
       "  </tbody>\n",
       "</table>\n",
       "<p>1 rows × 19 columns</p>\n",
       "</div>"
      ],
      "text/plain": [
       "      Strike     Expiry  Type  ...          Quote_Time     Last_Trade_Date  \\\n",
       "1088   255.0 2021-09-17  call  ... 2021-05-07 20:00:02 2021-05-07 19:36:57   \n",
       "\n",
       "                                                   JSON  \n",
       "1088  {'contractSymbol': 'MSFT210917C00255000', 'str...  \n",
       "\n",
       "[1 rows x 19 columns]"
      ]
     },
     "execution_count": 60,
     "metadata": {},
     "output_type": "execute_result"
    }
   ],
   "source": [
    "opt_deseada = appl_opt.loc[(appl_opt.Type=='call') & (appl_opt.Strike==255) & (appl_opt.Expiry=='2021-09-17')]\n",
    "opt_deseada"
   ]
  },
  {
   "cell_type": "code",
   "execution_count": 61,
   "metadata": {},
   "outputs": [
    {
     "data": {
      "text/plain": [
       "Strike                                                            255\n",
       "Expiry                                            2021-09-17 00:00:00\n",
       "Type                                                             call\n",
       "Symbol                                            MSFT210917C00255000\n",
       "Last                                                             12.6\n",
       "                                          ...                        \n",
       "Underlying                                                       MSFT\n",
       "Underlying_Price                                                  252\n",
       "Quote_Time                                        2021-05-07 20:00:02\n",
       "Last_Trade_Date                                   2021-05-07 19:36:57\n",
       "JSON                {'contractSymbol': 'MSFT210917C00255000', 'str...\n",
       "Name: 1088, Length: 19, dtype: object"
      ]
     },
     "execution_count": 61,
     "metadata": {},
     "output_type": "execute_result"
    }
   ],
   "source": [
    "opt_valuar = opt_deseada.loc[list(opt_deseada.index)[0]]\n",
    "opt_valuar"
   ]
  },
  {
   "cell_type": "code",
   "execution_count": 62,
   "metadata": {},
   "outputs": [
    {
     "data": {
      "text/plain": [
       "{'contractSymbol': 'MSFT210917C00255000',\n",
       " 'strike': 255.0,\n",
       " 'currency': 'USD',\n",
       " 'lastPrice': 12.61,\n",
       " 'change': 1.4099998,\n",
       " 'percentChange': 12.589285,\n",
       " 'volume': 135,\n",
       " 'openInterest': 3845,\n",
       " 'bid': 12.25,\n",
       " 'ask': 12.75,\n",
       " 'contractSize': 'REGULAR',\n",
       " 'expiration': 1631836800,\n",
       " 'lastTradeDate': 1620416217,\n",
       " 'impliedVolatility': 0.22809609802246095,\n",
       " 'inTheMoney': False}"
      ]
     },
     "execution_count": 62,
     "metadata": {},
     "output_type": "execute_result"
    }
   ],
   "source": [
    "opt_valuar['JSON']"
   ]
  },
  {
   "cell_type": "code",
   "execution_count": 63,
   "metadata": {},
   "outputs": [
    {
     "data": {
      "text/plain": [
       "(0.001337088088365077, 0.0179730621197052, 1.6666666666666667e-05)"
      ]
     },
     "execution_count": 63,
     "metadata": {},
     "output_type": "execute_result"
    }
   ],
   "source": [
    "mu = ret_appl.mean()\n",
    "sigma = ret_appl.std()\n",
    "r = 0.006/360\n",
    "mu, sigma, r"
   ]
  },
  {
   "cell_type": "code",
   "execution_count": 64,
   "metadata": {},
   "outputs": [
    {
     "data": {
      "text/html": [
       "<div>\n",
       "<style scoped>\n",
       "    .dataframe tbody tr th:only-of-type {\n",
       "        vertical-align: middle;\n",
       "    }\n",
       "\n",
       "    .dataframe tbody tr th {\n",
       "        vertical-align: top;\n",
       "    }\n",
       "\n",
       "    .dataframe thead th {\n",
       "        text-align: right;\n",
       "    }\n",
       "</style>\n",
       "<table border=\"1\" class=\"dataframe\">\n",
       "  <thead>\n",
       "    <tr style=\"text-align: right;\">\n",
       "      <th></th>\n",
       "      <th>0</th>\n",
       "      <th>1</th>\n",
       "      <th>2</th>\n",
       "      <th>...</th>\n",
       "      <th>9997</th>\n",
       "      <th>9998</th>\n",
       "      <th>9999</th>\n",
       "    </tr>\n",
       "  </thead>\n",
       "  <tbody>\n",
       "    <tr>\n",
       "      <th>2021-05-07</th>\n",
       "      <td>251.362</td>\n",
       "      <td>247.030</td>\n",
       "      <td>253.510</td>\n",
       "      <td>...</td>\n",
       "      <td>250.096</td>\n",
       "      <td>248.342</td>\n",
       "      <td>248.099</td>\n",
       "    </tr>\n",
       "    <tr>\n",
       "      <th>2021-05-10</th>\n",
       "      <td>253.084</td>\n",
       "      <td>252.074</td>\n",
       "      <td>252.807</td>\n",
       "      <td>...</td>\n",
       "      <td>249.743</td>\n",
       "      <td>246.263</td>\n",
       "      <td>237.777</td>\n",
       "    </tr>\n",
       "    <tr>\n",
       "      <th>2021-05-11</th>\n",
       "      <td>247.127</td>\n",
       "      <td>252.992</td>\n",
       "      <td>247.226</td>\n",
       "      <td>...</td>\n",
       "      <td>250.717</td>\n",
       "      <td>249.224</td>\n",
       "      <td>237.138</td>\n",
       "    </tr>\n",
       "    <tr>\n",
       "      <th>2021-05-12</th>\n",
       "      <td>255.687</td>\n",
       "      <td>253.769</td>\n",
       "      <td>245.133</td>\n",
       "      <td>...</td>\n",
       "      <td>249.049</td>\n",
       "      <td>247.847</td>\n",
       "      <td>240.633</td>\n",
       "    </tr>\n",
       "    <tr>\n",
       "      <th>2021-05-13</th>\n",
       "      <td>261.413</td>\n",
       "      <td>247.528</td>\n",
       "      <td>239.641</td>\n",
       "      <td>...</td>\n",
       "      <td>251.126</td>\n",
       "      <td>253.821</td>\n",
       "      <td>238.335</td>\n",
       "    </tr>\n",
       "    <tr>\n",
       "      <th>...</th>\n",
       "      <td>...</td>\n",
       "      <td>...</td>\n",
       "      <td>...</td>\n",
       "      <td>...</td>\n",
       "      <td>...</td>\n",
       "      <td>...</td>\n",
       "      <td>...</td>\n",
       "    </tr>\n",
       "    <tr>\n",
       "      <th>2021-09-13</th>\n",
       "      <td>251.704</td>\n",
       "      <td>227.767</td>\n",
       "      <td>281.545</td>\n",
       "      <td>...</td>\n",
       "      <td>310.790</td>\n",
       "      <td>209.773</td>\n",
       "      <td>208.650</td>\n",
       "    </tr>\n",
       "    <tr>\n",
       "      <th>2021-09-14</th>\n",
       "      <td>255.560</td>\n",
       "      <td>229.887</td>\n",
       "      <td>285.826</td>\n",
       "      <td>...</td>\n",
       "      <td>321.715</td>\n",
       "      <td>207.154</td>\n",
       "      <td>208.224</td>\n",
       "    </tr>\n",
       "    <tr>\n",
       "      <th>2021-09-15</th>\n",
       "      <td>254.283</td>\n",
       "      <td>234.899</td>\n",
       "      <td>280.582</td>\n",
       "      <td>...</td>\n",
       "      <td>308.641</td>\n",
       "      <td>207.879</td>\n",
       "      <td>207.601</td>\n",
       "    </tr>\n",
       "    <tr>\n",
       "      <th>2021-09-16</th>\n",
       "      <td>256.675</td>\n",
       "      <td>228.343</td>\n",
       "      <td>275.402</td>\n",
       "      <td>...</td>\n",
       "      <td>313.456</td>\n",
       "      <td>207.828</td>\n",
       "      <td>212.029</td>\n",
       "    </tr>\n",
       "    <tr>\n",
       "      <th>2021-09-17</th>\n",
       "      <td>249.604</td>\n",
       "      <td>232.141</td>\n",
       "      <td>274.916</td>\n",
       "      <td>...</td>\n",
       "      <td>310.910</td>\n",
       "      <td>208.991</td>\n",
       "      <td>212.085</td>\n",
       "    </tr>\n",
       "  </tbody>\n",
       "</table>\n",
       "<p>96 rows × 10000 columns</p>\n",
       "</div>"
      ],
      "text/plain": [
       "               0        1        2     ...     9997     9998     9999\n",
       "2021-05-07  251.362  247.030  253.510  ...  250.096  248.342  248.099\n",
       "2021-05-10  253.084  252.074  252.807  ...  249.743  246.263  237.777\n",
       "2021-05-11  247.127  252.992  247.226  ...  250.717  249.224  237.138\n",
       "2021-05-12  255.687  253.769  245.133  ...  249.049  247.847  240.633\n",
       "2021-05-13  261.413  247.528  239.641  ...  251.126  253.821  238.335\n",
       "...             ...      ...      ...  ...      ...      ...      ...\n",
       "2021-09-13  251.704  227.767  281.545  ...  310.790  209.773  208.650\n",
       "2021-09-14  255.560  229.887  285.826  ...  321.715  207.154  208.224\n",
       "2021-09-15  254.283  234.899  280.582  ...  308.641  207.879  207.601\n",
       "2021-09-16  256.675  228.343  275.402  ...  313.456  207.828  212.029\n",
       "2021-09-17  249.604  232.141  274.916  ...  310.910  208.991  212.085\n",
       "\n",
       "[96 rows x 10000 columns]"
      ]
     },
     "execution_count": 64,
     "metadata": {},
     "output_type": "execute_result"
    }
   ],
   "source": [
    "from datetime import date\n",
    "\n",
    "# Datos de la opción y del día de actual\n",
    "today = pd.Timestamp(date.today())\n",
    "expiry = opt_valuar.Expiry\n",
    "\n",
    "# Fechas desde el día de hoy hasta la fecha de cierre del contrato (considerando unicamente los días hábiles)\n",
    "dates = pd.date_range(start=today, end=expiry, freq='B')\n",
    "\n",
    "# Cantidad de escenarios a simular para el método de montecarlo\n",
    "ndays = len(dates)\n",
    "nscen = 10000\n",
    "\n",
    "K = opt_valuar.Strike\n",
    "S0 = closes_appl.iloc[-1]\n",
    "sim_ret = pd.DataFrame(sigma*np.random.randn(ndays,nscen)+r,index=dates)\n",
    "sim_closes = S0*np.exp(sim_ret.cumsum())\n",
    "sim_closes\n"
   ]
  },
  {
   "cell_type": "code",
   "execution_count": 65,
   "metadata": {},
   "outputs": [
    {
     "data": {
      "text/plain": [
       "252.42660522460938"
      ]
     },
     "execution_count": 65,
     "metadata": {},
     "output_type": "execute_result"
    }
   ],
   "source": [
    "S0"
   ]
  },
  {
   "cell_type": "code",
   "execution_count": 68,
   "metadata": {},
   "outputs": [
    {
     "data": {
      "image/png": "iVBORw0KGgoAAAANSUhEUgAAAX4AAAEHCAYAAACp9y31AAAABHNCSVQICAgIfAhkiAAAAAlwSFlzAAALEgAACxIB0t1+/AAAADl0RVh0U29mdHdhcmUAbWF0cGxvdGxpYiB2ZXJzaW9uIDMuMC4yLCBodHRwOi8vbWF0cGxvdGxpYi5vcmcvOIA7rQAAIABJREFUeJzt3Xl4VNX5wPHvyb6HkIUthLDve2RHQBQQFVwQRVSwKuLSVltrrW1FbeuvKtWquKHi0gpaVBAXFLQCKiK7Yd8DhEA2ErIvk3l/f9whDSGBkG1mMu/nefJk5t4z974zgTcn5577HiMiKKWU8hxezg5AKaVU49LEr5RSHkYTv1JKeRhN/Eop5WE08SullIfRxK+UUh5GE79SSnkYTfxKKeVhNPErpZSH8XF2AFWJioqS+Ph4Z4ehlFJuY9OmTRkiEl2Tti6Z+OPj49m4caOzw1BKKbdhjDlc07Y61KOUUh5GE79SSnkYTfxKKeVhXHKMvyqlpaUkJydTVFTk7FBUHQQEBBAbG4uvr6+zQ1HKY7lN4k9OTiY0NJT4+HiMMc4OR9WCiJCZmUlycjLt27d3djhKeSy3GeopKioiMjJSk74bM8YQGRmpf7Up5WRuk/gBTfpNgP4MlWoAF7iSotsM9SillKok9wQkfgBbF17Qy9yqx+9s3t7e9OvXj169enH99ddTUFBQZbuJEyeSnZ3dyNE1vPj4eDIyMs7avmzZMv7+9787ISKlPIytBI78BGvmwjuT4NnusPJR8A+7oMNoj/8CBAYGsnXrVgCmT5/Oq6++ym9+85vy/SKCiPDFF184K0SnmDRpEpMmTXJ2GEo1XSe2w7qXYccSKHV0OGN6wogHoO9NENUJ7qz5MKpbJv7HP93BzpScej1mj9ZhzLmqZ43bjxw5ksTERJKSkrj88ssZM2YMP/74I0uXLmXUqFFs3LiRvLw8JkyYwIgRI1i3bh19+/bltttuY86cOaSlpfHee+8xaNAg1q9fz/33309hYSGBgYG89dZbdO3a9YzzrVq1irlz5/LZZ58BcN9995GQkMDMmTOJj4/nhhtu4NtvvwVg4cKFdOrU6ayY7777bjZs2EBhYSFTpkzh8ccfB6ye/IwZM/j0008pLS1l8eLFdOvWjczMTKZNm0Z6ejqDBg1CqhlHfPvtt9m4cSPz5s1j5syZhIWFsXHjRk6cOMHTTz/NlClTavy5KqUcymywfyWsewUOrQbfIOh9PXS+DOKGQXBkrQ+tQz21YLPZWL58Ob179wZgz5493HrrrWzZsoV27dqd0Xb//v38+te/JjExkd27d7Nw4UK+//575s6dy5NPPglAt27dWLNmDVu2bOGJJ57gkUceueCYwsLCWL9+Pffddx/3339/lW3+9re/sXHjRhITE1m9ejWJiYnl+6Kioti8eTN33303c+fOBeDxxx9nxIgRbNmyhUmTJnHkyJEaxXL8+HG+//57PvvsMx5++OELfi9KebSsJPjvX+GfvWHRjZCxDy59DB7YAZNegO5X1Snpg5v2+C+kZ16fCgsL6devH2D1+G+//XZSUlJo164dQ4YMqfI17du3L/8F0bNnT8aOHYsxht69e5OUlATAqVOnmDFjBvv27cMYQ2lp6QXHNm3atPLvDzzwQJVt/vOf/zB//nxsNhvHjx9n586d9OnTB4Brr70WgIEDB/Lxxx8DsGbNmvLHV1xxBRERETWK5eqrr8bLy4sePXqQmpp6we9FKY9UcBJW/Bm2/huMF3S6FCY+DV0mgHf93vDolonfWSqO8VcUHBxc7Wv8/f3LH3t5eZU/9/LywmazAfDnP/+ZMWPGsGTJEpKSkhg9evRZx/Hx8cFut5c/rzwXvuI0SWMMZWVlDBw4ELDG4G+77Tbmzp3Lhg0biIiIYObMmWcc43Rc3t7e5XFVPu5pL730Eq+//jpAldczKr7n6oaHlFIOItbY/fKHrOQ/7JcweDaExzbYKc871GOMWWCMSTPGbK+w7QNjzFbHV5Ix5uxsaLVLMsZsc7TTOsvVOHXqFG3atAGs8fKqtGvXjp07d1JcXMypU6f45ptvztj/wQcflH8fOnQo3t7ebN26la1bt/LEE0+Qk5NDcHAw4eHhpKamsnz58vPGdfHFF/Pee+8BsHz5crKysgC49957y4/dunXr2r5tpTybCCR9Dwunwoe3QVgbuGs1jPtrgyZ9qFmP/21gHvDu6Q0icsPpx8aYfwCnzvH6MSJy9hxAVe6hhx5ixowZPPvss1xyySVVtmnbti1Tp06lT58+dO7cmf79+5+xv7i4mMGDB2O321m0aNFZr+/bty/9+/enZ8+edOjQgeHDh583rjlz5jBt2jQGDBjAqFGjiIuLq90bVEr9T2GW1cNf/zqk7YSAZnDZX2DIPeDdOIMwpiZ/ihtj4oHPRKRXpe0GOAJcIiL7qnhdEpBwoYk/ISFBKi/EsmvXLrp3734hh/EYpxeuiYqKcnYoNaI/S+VRykrh6E9w4L9w4Fs4vhXEDi17w6C7oNd14BdU59MYYzaJSEJN2tb118tIILWqpO8gwApjjACvicj86g5kjJkFzAK0Z6mUcm8FJ61Ev2e5NSWz6BQYb4hNgIsfgs7joM0AcFIJk7om/mnA2eMK/zNcRFKMMTHASmPMbhFZU1VDxy+F+WD1+OsYl0c5PTtIKeUkZTY4tMrq0R9abd1whUBQFHS7ErqMhw6jISDcuXE61DrxG2N8gGuBgdW1EZEUx/c0Y8wSYBBQZeJXSim3k7bbmn758weQnwbeftB2MIz5o5Xo2wwAL29nR3mWuvT4LwV2i0hyVTuNMcGAl4jkOh6PA56ow/mUUsr5RGD/1/D9c3D4B/Dygc7jod9N0Gks+AY6O8LzOm/iN8YsAkYDUcaYZGCOiLwJ3EilYR5jTGvgDRGZCLQAljjmgfsAC0Xky/oNXymlGtCRdXD8Z/AJsBJ6aQGsfwNSt1nTLy/7C/SdBiHRzo70gpw38YvItGq2z6xiWwow0fH4INC3jvEppVTjEoGk72D109b3yiI7w+SXoPdU8PFr/Pjqgd65q5RSYF2g3bscfnwZjqyFkJYw4e/Q81qwl0JpkfU9qotLjttfCE38F8Db25vevXtjs9no3r0777zzDkFBZ8+/nThxIgsXLqRZs2b1HsOqVauYPHnyGWvWzp07l0svvbTez6WUR8hLh83vwMa3ICcZwtvC5c/AgFvBN8DZ0TUI90z8yx+GE9vq95gte8Pl515MxFXq8Y8cObK8PPOFstls+Pi4549dqXp1Yjv89AokLoayYugw5n9F0dy8R38+Wpa5lkaOHMn+/ftJSkqie/fu3HPPPQwYMICjR4+Wr1SVlJREt27duOOOO+jVqxfTp0/n66+/Zvjw4XTu3Jn169cDsH79eoYNG0b//v0ZNmwYe/bsueB4kpKS6NXrfzdWz507l8ceewyA0aNH88gjjzBq1Cief/55Dh8+zNixY+nTpw9jx44tL7c8c+ZMZs+ezciRI+nSpUv5L5eysjJ+97vfcdFFF9GnTx9ee+01APLy8hg7diwDBgygd+/efPLJJ3X5SJVqeCLWjVXvXAWvDoftH8OAW+DeDXDrUuh2RZNP+uCuPf7z9Mwb2ul6/BMmTACsevxvvfUWL7/88llt9+/fz+LFi5k/fz4XXXRReT3+ZcuW8eSTT7J06dLyevw+Pj58/fXXPPLII3z00UfVnv+7774rLw8N8NFHH+Htfe5/rNnZ2axevRqAq666iltvvZUZM2awYMECfvWrX7F06VLA+gWyevVqDhw4wJgxY9i/fz/vvvsu4eHhbNiwgeLiYoYPH864ceNo27YtS5YsISwsjIyMDIYMGcKkSZN0QXXleux2a/x+zVxI2Qyhrawa9wNmQFBzZ0fX6Nwz8TuJq9Tjr2qo53x3795wQ3ldPX788cfyOvu33HILDz30UPm+qVOn4uXlRefOnenQoQO7d+9mxYoVJCYm8uGHH5bHu2/fPmJjY3nkkUdYs2YNXl5eHDt2jNTUVFq2bHnOWJRqNHlp8PMi2PwvyNwHEfFw1fPWFEwf//O+vKnSxH8BnFmP/3zOV6//XDFWruVfeZ+I8OKLLzJ+/Pgz9r399tukp6ezadMmfH19iY+PP+u8SjW6/AzY/w3sWgZ7vwS7DdoOgVEPWTN0GqkCpivTMX4XUJN6/OfTokUL0tLSyMzMpLi4+JwXf4cNG8b7778PwHvvvceIESPK9y1evBi73c6BAwc4ePAgXbt2Zfz48bzyyivlf4ns3buX/Px8Tp06RUxMDL6+vnz77bccPny4VrErVScikLrDmnf/+lh4phMsmQVH18OQu63x+9u/gj5TNek76KfgAmpSj7+iymP8f/rTn5gyZQqPPvoogwcPpn379nTr1q3a17/wwgv84he/4JlnniE6Opq33nqrfF/Xrl0ZNWoUqampvPrqqwQEBHDHHXeQlJTEgAEDEBGio6NZunQp06dP56qrriIhIYF+/fqd85xK1bsT261hnN2fWevUYqzaOKP/YC1I3qofeGnftio1qsff2LQev3PMnDmTK6+8kilTpjToefRnqWqttAh2fgIb37Rq3Hv7WcXQul0BXS6H0BbOjtBpGrMev1JKNazMA9YUzP3fWCUUSvKgeUcY9zerMJoHzsqpK038Luqrr77i97///Rnb2rdvz5IlSxrsnLW9vqBUvbIVW1Uv966AfV/ByYPW9mbtrHH67pOg/SgdxqkDt0r8IuIxc8THjx9/1iyapsAVhxaVi8hLg/XzYcMb1rq0PgHQ/mIYfLdV7jiyo7MjbDLcJvEHBASQmZlJZGSkxyT/pkZEyMzMJCCgadY/UbUgAilbYNPb8PP7UFZijdcPuBXiR9bLWrTqbG6T+GNjY0lOTiY9Pd3Zoag6CAgIIDY21tlhKGey2yFtp3WRdvuH1lCOt781Xj/0Pojq5OwImzy3Sfy+vr5nVKRUSrmRjH2wY4k1E+foBig+BcbL6tWPeAC6XwWBEc6O0mO4TeJXSrkZETj4rVXffv9KwEBMd+h1jbUubcdLIFTLeziDJn6lVP0qzoXED6wlCtN3QXA0jH4EEm6DkBhnR6fQxK+Uqi8Z+6xZOVsXQUkutOwDk1+G3lM8uiCaK6rJYusLgCuBNBHp5dj2GHAncPpK6yMictbqI8aYCcDzgDfWIuzOraeslKpfdjsc+AbWvWJ99/azCqFddAfEJoDOwHNJNenxvw3MA96ttP05EZlb3YuMMd7AS8BlQDKwwRizTER21jJWpZSryDwA2z60hnROHoCQFjDmjzDwNgiJdnZ06jzOm/hFZI0xJr4Wxx4E7BeRgwDGmPeByYAmfqXc1c5l8P2z1tx7DLQbDqMfhh5Xg4+fs6NTNVSXMf77jDG3AhuB34pIVqX9bYCjFZ4nA4OrO5gxZhYwCyAuLq4OYSml6l1xrrXW9dZ/Q3R3q05Or2shrLWzI1O1UNtiF68AHYF+wHHgH1W0qWpwr9r79UVkvogkiEhCdLT+qaiUy0jeCK+OhJ8XwsW/g9nfwbD7NOm7sVr1+EUk9fRjY8zrQFWrfiQDbSs8jwVSanM+pVQjyz4KO5daN10d2wThbWHm59BumLMjU/WgVonfGNNKRI47nl4DbK+i2QagszGmPXAMuBG4qVZRKqUaXn4m7PgYti227rAFaNXXWpR84G0Q2MyZ0al6VJPpnIuA0UCUMSYZmAOMNsb0wxq6SQLucrRtjTVtc6KI2Iwx9wFfYU3nXCAiOxrkXSilai/pB1j7onV3rd0GMT1g7KPQ8xpo3sHZ0akG4DYrcCml6pGINe9+zT/gyFrr7tp+N0HvqdCyl7OjU7WgK3AppapWmAWJi2HzO5C6HcLawOXPwIBbwDfQ2dGpRqKJXylPcPxnq1jazqVgK7IWIp/0IvS5UeffeyBN/Eo1VSJwaA388E9rzVq/UOg3HQbOsC7aKo+liV+ppqa00CqnsOF1q6cfHANj50DCL3RmjgI08SvVdGQftapjbvmXNZYf3R2ufA763gS+utyl+h9N/Eq5u5QtsHaedbMVQPcrYdAsq46OVsdUVdDEr5Q7stutefdrX4Sk76zx+yF3w+DZ0Kzt+V+vPJomfqXcia0EEt+3evgZe6zpmJf9xbpgGxDu7OiUm9DEr5Q7ELHKKXzzF8g6BC17w7WvW3fXevs6OzrlZjTxK+XKymzWVMxVT1pj+TE94abF0PkyHb9XtaaJXylXI2KVQt622Orl56dDWCxc/Sr0mQpe3s6OULk5TfxKuZK8NPj0ftjzOfgEQJfx0Pt66DxOFyxX9UYTv1KuYsdS+OwBKMm3SiEn3A4BYc6OSjVBmviVcra0XfDtk7BrGbTubw3pxHRzdlSqCdPEr5SzHE+ENc9YCd83GMb8CUbcr7N0VIPTxK9UY0vZAqufhj1fgH+YtY7tkHsgqLmzI1MeQhO/Uo0leROsfgr2fQUBzWD0IzD4Li2cphqdJn6lGtrR9VbC3/81BDa3ljW86E69cKucRhO/Ug0hP9O68Wrrv+HgKgiKtGbqXHQH+Ic6OTjl6TTxK1VfinJgwxuw+zM4thkQCGkB4/5q1cL3C3Z2hEoBNUj8xpgFwJVAmoj0cmx7BrgKKAEOALeJSHYVr00CcoEywFbThYCVciu2Yti4wJqhU5AJsRfB6D9A50utJQ71TlvlYmrS438bmAe8W2HbSuAPImIzxjwF/AH4fTWvHyMiGXWKUilXVFJgVcr8/jnIPgLtL7aGc9oMdHZkSp3TeRO/iKwxxsRX2raiwtN1wJT6DUspF3YqGda/DpvehqJs66arK/8JHS/RwmnKLdTHGP8vgA+q2SfACmOMAK+JyPzqDmKMmQXMAoiLi6uHsJSqZ7knrOGcTe+AlEG3K63593FDNOErt1KnxG+M+SNgA96rpslwEUkxxsQAK40xu0VkTVUNHb8U5gMkJCRIXeJSql4VnLSGc9a/DvZS6H8LjHgAIto5OzKlaqXWid8YMwProu9YEakyUYtIiuN7mjFmCTAIqDLxK+Vy7GXWwuVfP24tXt7nBhj9e2jewdmRKVUntUr8xpgJWBdzR4lIQTVtggEvEcl1PB4HPFHrSJVqTEc3wPLfWeUV4obBxKetVa+UagJqMp1zETAaiDLGJANzsGbx+GMN3wCsE5HZxpjWwBsiMhFoASxx7PcBForIlw3yLpSqD7mp1uInie/DiW0Q0hKufQN6T9ExfNWkmGpGaZwqISFBNm7c6OwwlKc4uh7WvgC7PwexQ+sB0PdG6HeT3mWr3IYxZlNN75XSO3eVZxKxqmP+8Dwc/ckqmjbsl9BvOkR3dXZ0SjUoTfzKs4hYNXS+eQKOb4VmcTDhKeh/M/iHODs6pRqFJn7lOY6utxJ+0ncQHgeTX7Zm6njrfwPlWfRfvGr6UrZaSxvu+wqCo+Hyp2HgTF28XHksTfyqaRKxxu5/nAe7PrXG8C99DAbN0iqZyuNp4ldNS2mhNSVz/XxrSqZ/OIx6GIbeAwHhzo5OKZegiV81DfYy+Pl9+O9fIPc4xPSwCqf1mao9fKUq0cSv3N/B1bDij1YPv81AuOY1q0Sy3nSlVJU08Sv3JQKr/s9azzY8Dq57E3pdpwlfqfPQxK/cU1kpfHq/taZtv5vhin+Ab4Czo1LKLWjiV+6nOA8Wz4D9X1sXbkc/rL18pS6AJn7lPspKrQu4a56xVsGa9CIMuNXZUSnldjTxK9dnL4OtC62En33YWupw8kvQfqSzI1PKLWniV64t6zAsmQ1H1loJf+Iz0HmcDu0oVQea+JVrErGGdb74nfX86leg7zRN+ErVA038yrWIQNL3Vrnk/Sut1a+ueVXXt1WqHmniV66hzAbbP7Rq65zYBkGRMO6vMOQe8PJ2dnRKNSma+JXzHV0Pn/0GUrdBdDe46gWr1IJvoLMjU6pJ0sSvnKfgJHw9Bza/C6Gt4fq3ocfVOo6vVAPzqkkjY8wCY0yaMWZ7hW3NjTErjTH7HN8jqnntDEebfcaYGfUVuHJjtmJY+yK80B+2vAdD74P71kPPazTpK9UIapT4gbeBCZW2PQx8IyKdgW8cz89gjGkOzAEGA4OAOdX9glAeoMwGiYthXgKs+BPEJsDs72D833RRc6UaUY2GekRkjTEmvtLmycBox+N3gFXA7yu1GQ+sFJGTAMaYlVi/QBbVKlrlfuxlcPgH2LEEdi6Dggxo2RtuWQodxzg7OqU8Ul3G+FuIyHEAETlujImpok0b4GiF58mObWcxxswCZgHExcXVISzlEkRg1zJY8WfrblvfIOgywaqe2XUieNX0j02lVH1r6Iu7VQ3YSlUNRWQ+MB8gISGhyjbKTaTugOW/txY1j+lpXbTtPB78gpwdmVKKuiX+VGNMK0dvvxWQVkWbZP43HAQQizUkpJqiwmyrPv76+dYyh1f8AwbMBG+dPKaUK6nL39vLgNOzdGYAn1TR5itgnDEmwnFRd5xjm2pKTpdXmHeRlfQTfgG/3AwX3aFJXykXVKP/lcaYRVg99yhjTDLWTJ2/A/8xxtwOHAGud7RNAGaLyB0ictIY8xdgg+NQT5y+0KuaAFsJ7P4UfnwZjm2E2Itg+mJo3c/ZkSmlzqGms3qmVbNrbBVtNwJ3VHi+AFhQq+iUayo4CT+9BpvegrxUiIi3auP3u1kv2irVwIpKy0jPLSYtt5iMPOsrM6/kgo6hf4ermrPbraUOV86BwizofBlcdCd0ulQTvlJ1lFNUysH0fJKzCsgptJFTVEpuUSlpOcWcyCkiNaeIE6eKyCmy1flcmvhVzZzYZtXTSV4PcUNh4lxo2cvZUSnVoIpKyygpsxPq74OpcFd5ic1OclYBqTnF5BfbyCu2kVtso6DYRn5JGfnFNkpsdoyxpjYaY/D38bK+fL0RETLySkjPLSY9t5ikzHzScovPOr+3lyEqxI+WYQHERwYzpEMkMaH+xIQGEB3qT3SoP1Eh/jQP9sP/qZq/L0386txK8q2ZOj++DIHNtC6+clu2Mjs5RTayC0rIKiglI6+4fMgkp7CUkjI7xaV2CkttHD9VRHJWIemOZBzo602LMCvBpuUWk5JdiP0ck86D/bzx8/FCsOY+2EUoLbNTVGovbxMa4FOeuC/uEk3H6BA6RgcTFxlEs0A/QgN8CPLzPuMXTn3RxK+qt3cFfP5bOHUEBsyASx+DoObOjkp5mDK74O1VdfKz24UyEewiiEB+sY0sR2JPyylm1/Ecdh7PYWdKDidyiqo8hjEQ4ueDv68X/j7e+Pt60So8gEu6xhAbEYi/rxdpOcWk5haTmVfMwHYRXDsglnbNg2gVHkBogC/B/t6E+PsQ7O9DoK83XtXEKyKUlFnJ39/HeeXGNfGrs508aN1xu/sziOoKty2HdsOcHZVqwkSEgxn5bDh0kg1JWRw9WUC6o0eeV2wj0Neb0AAfwgJ9sduF3GIbuUWlZ/Sgq+LtZegUHcLQjpHENQ8iIsiX8CBfmgX6lQ+VNA/2w9e7ca5RWUM+zl9fQhO/+p+iHPhuLqx7Bbx84ZI/w7Bfgo+/syNTLsxWZufIyQIOpOdz5GQB6RVmm2QVlJJTWMqpwlLyi23WbfuOIRJfb0OArzcBvt4UlpZxMt+amRIZ7EfHmBB6tg4jJjSAsEAfCkrKyo/j5WUIC/AhNMCXID9vfLwMxhiMgWA/H5oF+RIR5EdkiB8do0MI8HV+onU1mviVNQi5bTF89UfIT4N+062kH9bK2ZEpFyEiHM4s4IcDGew5ketI7CVk5BZzNKuA0rL/DXj7ehuiQqyx62ZBvrSNCCQ80JeQShdIrTHvMopK7Xh7Qf+4CC6Kb07H6OAGGddW/6OJ39Ol74UvfguH1kCbgXDTB9BmgLOjUo1MREjLLSYpI5/Djl57XrGN/GIb2QWlbDqcxbHsQsC6KBkT6k9kiD/dWoUyrmdLOsVYFybjI4NpFuSridvFaeL3VGU2+P5ZWP20VTztimdh4Exd37YJyy4o4ejJQpKzCkjOKuRoVgFHTxZwNMvaVnm83NfbEOzvQ4i/D31iw5k9uiPDOkbSIUp75O5OE78nytgPS+6yyiz0ug4m/B1CqqqqrdxNXrGNoycLOJxZwJGT+RzKyOdAWj770/PKx9BPCw3woW1EEB2jgxndJZp2kUHERQYTHxlEi7AAHRtvwjTxexIR2LjAWv3K2w+mLLASv3I5IkKxzRoDLywtIyu/tHyWy+mv0xdQT+aXkFVQQnZBKcW2M3vtEUG+dIoJYXzPFnSICiEuMojYiEBiI4IID/R10rtTzqaJ31OU5MOyX8H2D6HDGLj6ZQhr7eyoFNY89Yy8YhKTT7H+UCbrD51kR0oOtnPcIRTs502U4+afts2D6BMbTkSQH82C/GjbPJB2za0bgTS5q6po4vcEGfvhP7dA+m4Y+ygMf0Br6zQwEWuu+cm8kvLx9OSsArIKSsktspFXVEp2YSmpp4pIyy0uT/J+Pl70a9uM20e2JzzQl0DHdMdmgb5EO27Vjwr1I8hP/+uq2tN/PU2Zvcyqk//lw+DtCzd/rOvc1oPcotLyi6THsgtJyS4kNaeY1BwriWcVlJBTWHrWLf3eXoaIIGtaY2iAL2GBPgzpGEnLsABahgfQpUUo/do207F11eA08TdFIrBvJXz9GKTtgNhB1nh+s7bOjsytiAjHsgtJTD7FjpRT7D6ey+4TueXTGk/z9/GiZXgAMaH+9GgVRvNgP8IDfQkP9CUi2I82zQJp2zyQlmEB+DTSHaJKnYsm/qam4nq3Ee1hylvQ42od2qlGmV1Iz7V66ynZ1pDMEcesmJ0pOWQ6ZsL4eBk6RoeQEB/B9JZxxEcGExsRSJtmgTQP9tPpjcqtaOJvKorzrCqa616x1rudONeal++tF/fAukv0cGYBe07ksvP4KXam5LDnRC4ncorOGpIJD/SlbfNALukWQ5+2zejTJpxurUJdosaKUvVBE7+7s9thx8ew8lHIOebxVTQz84rZm5rHkZP5HM60eu770/I4mJFXXlbA28vQOSaEQe2b07a5NWf99Dh72+Y6E0Y1fZr43ZUI7FkO3/4NUrdDy95w/TvQ9iJnR9aojmUX8nliCluPZvPz0VNnjL8D76V7AAAVaElEQVR7exliIwLpFB3CmG4xdI4JoWvLUDrFaOEu5dlqnfiNMV2BDyps6gA8KiL/rNBmNPAJcMix6WMReaK251QOxxPh899A8gZo3hGuexN6Xusx4/jFtjL+uyuN9zccZc2+dEQgrnkQ/eOaMWNYO7q1DCM+MpjWzfRiqlJVqXXiF5E9QD8AY4w3cAxYUkXT70TkytqeR1VgK4Y1c60aO4HNrQXO+94E3k33D7fSMjubDmex9kAme0/ksi8tl6TMAsrsQqvwAH55SWeuHxhL2+ZBzg5VKbdRXxljLHBARA7X0/FUZcc2w9J7IH2XtfTh+Ceb3Di+3S4czyniYHoeB9Pz+elQJt/tzSC32Ia3l6FdZBCdY0K4vFcrBsZHcHHn6GpXZlJKVa++Ev+NwKJq9g01xvwMpAAPisiOqhoZY2YBswDi4uLqKawmQATWvQwr50BwNNy0GLqMc3ZUdXYyv4SD6XnsPpFbvjTenhO5FJaWlbeJCfVnYu9WjOkWzfBOUYQG6EVXpeqDETnHisE1OYAxflhJvaeIpFbaFwbYRSTPGDMReF5EOp/vmAkJCbJx48Y6xdUkFJyET+6FPV9A1yvg6pcgMMLZUdWIiLAjJYeVO1M5ll1IYUkZ+SU2ThWWcigjn+yC0vK2YQE+9GgdRreWYXSKCaFDdDAdo0OICfXX+fFK1ZAxZpOIJNSkbX30+C8HNldO+gAiklPh8RfGmJeNMVEiklEP523aDv8IH98JuSesssmDZ1urQruw/GIbGw9nsWZvOl/tOEFyViFeBlqEBRDk511e2/3yXq3oGB1Mh+hgOseEEhsRqAleqUZUH4l/GtUM8xhjWgKpIiLGmEGAF5BZD+dsuspssPopa+3bZnFw+1fWylguJLeolH1peRzPLuL4qUKOZRey9Wg2icmnKLMLft5ejOgcxa8u6czY7jFEhuiavUq5kjolfmNMEHAZcFeFbbMBRORVYApwtzHGBhQCN0pdx5aaspOH4ONZkLzemq0z8WnwD3VqSCLCgfQ8fjyQyRZHcj+QnkfFn2KArxc9WoUxe1QHhnaIYkC7Zlo9UikXVqf/nSJSAERW2vZqhcfzgHl1OYdHsNth45vWBVwvH6cvkJJdUMJ/d6exak86Px7MJD23GICoEH/6xoZzVZ/W9GwdRpuIQFqFBxAeqGusKuVOtFvmbJkHrAVSDn8PHS+Bq15wShXNpIx8vt2Txsqdqfx06CRldiE61J9hHSMZ2iGSoR0jiWsepAleqSZAE78zbfsQPrnPWgZx0jzof3OjXcAtKi1j3cFMVu9NZ9WedA5l5APQKSaEuy7uwPieLendJhwvnSevVJOjid8Z7HZY9SSseQbihsGUNxtlGcTMvGKW/ZzCf3ensf7QSYptdvx9vBjaMZIZQ9sxumsM8VHBDR6HUsq5NPE3tpJ8WDIbdi2D/rfAFc+Cj1+Dna7MLvx4IJNFG46wYscJSsuETjEh3DykHRd3iWZw++ZasEwpD6OJvzEd2wRL74WMPVbJhSH31PvQzsn8EpZvP8625FPsOpHLXsfdsM2CfLllSDw3DmpLlxbOnSmklHIuTfyNoaTAGtr58SUIbQXTP4ROY+vt8Ha7sPZAJu9vOMKKHamUlNmJCPKle6swpg2KY2C7CMZ2j9GevVIK0MTf8I6uhyV3wcmDMPA2uOwJCAir0yGPZReydMsxdp/ItRYZSc+j2GanWZAv04fEMTWhLd1ahuoMHKVUlTTxN5QyG3z3D+su3PA2MONTaH9xrQ8nIvx4MJN31iaxcmcqAsRGBNIxOoThHSPpF9eMS7u30F69Uuq8NPE3hKzD1h24R9dBnxus9W9r2csvLClj6dZjvP1DEntSc4kI8uWuUR2ZPjiO2AitQa+UunCa+OvbkXWw6Eawl8G1b0Cf6y/4ECLC3tQ8lmw5xvsbjpBdUEr3VmE8fV0fJvVrrb16pVSdaOKvTzuWwMd3WXfeTl8MzTvU+KWnk/3niSl8vu04B9Lz8TJwWY8W3Da8PYPbN9cxe6VUvdDEXx9EYO0LsPJRiBsKNy6s8epYe1Nz+eznM5P94PaRzBzenvE9WxATGtDAwSulPI0m/rqyl8Hy38OG16HnNXD1q+B7/mS99Wg2z63cy+q96Wck+wk9WxIdqmWMlVINRxN/XZQUwEe3WytkDfslXPoEeHlV21xE2Hwkm1dW7efrXWlEBPny0ISuXD+wrSZ7pVSj0cRfW3npsOgGSNlizdoZdGe1TXcdz2HZzyl8+nMKyVmFhAX48OC4Lswc3p4Qf/0RKKUal2ad2kjbBQtvgLw0uOHf0O2Ks5qUltn5cvsJ3vrhEJuPZOPtZRjeKYpfj+3MhF4tdeFwpZTTaOK/UHu+hI/uAL8gmPk5xJ65LGJRaRn/XneYN78/xPFTRbSLDOLPV/Zgcr/WROkShEopF6CJv6bKZ+7MgVZ94MZF1h255buFzxKP89SXu0nOKmRoh0j+MrkXY7rF4K017ZVSLkQTf03Yy+CLB2HjAuhxNVz9itXjd9iWfIo5y7az+Ug23VqG8u/bBzOic5QTA1ZKqerVOfEbY5KAXKAMsIlIQqX9BngemAgUADNFZHNdz9tobMVW+YWdS2HEAzB2Tnkp5bxiG8+u2Mvbaw8RGeLP09f14bqBsdrDV0q5tPrq8Y8RkYxq9l0OdHZ8DQZecXx3fcV58MHNcPBbGPdXa8om1rDOip2pPLZsBydyipg+OI6HJnQjTC/YKqXcQGMM9UwG3hURAdYZY5oZY1qJyPFGOHftlRTAv66xFk+Z/DL0nw7A/rQ8nvhsJ2v2ptO1RSjzbhrAwHYRTg5WKaVqrj4SvwArjDECvCYi8yvtbwMcrfA82bHtjMRvjJkFzAKIi4urh7DqwG6Hj++E5A0w9R3oMZm8YhvPf72Xt35IItDPm0ev7MEtQ9vh6139DVtKKeWK6iPxDxeRFGNMDLDSGLNbRNZU2F/VgLectcH6hTEfICEh4az9jerrObD7Mxj/f9BjMmv3Z/C7DxNJOVXIDQlteXB8V52aqZRyW3VO/CKS4vieZoxZAgwCKib+ZKBtheexQEpdz9tgNr1tTdu86A7y+9/JU59s590fD9M+KpgPZw9lYLuaFV9TSilXVafEb4wJBrxEJNfxeBzwRKVmy4D7jDHvY13UPeWy4/v7v4HPfwudLuXwoEeZOe8HkjLzuX1Eex4c15VAP62Dr5Ryf3Xt8bcAljjqxPsAC0XkS2PMbAAReRX4Amsq536s6Zy31fGcDePoemsGT3R3tg/7JzNeXY9dhEV3DmFIh0hnR6eUUvWmTolfRA4CfavY/mqFxwLcW5fzNLjUHfDe9RDakrXDXueOt3cQEeTHu7cPomN0iLOjU0qpeqVTUk4esqZt+gbyWb9XuPWDQ7SLDGbJPcM06SulmiTPTvwZ++DdSUhZCW+0f5b7vshkSIdI/nPXEGLCdOUrpVTT5Lm1eg59Bx/cjHj58PfIJ3ltvXDT4Dgen9RT5+YrpZo0z0z8WxfCsl9REh7PPfIw3xwI5E9XdOf2Ee11QXOlVJPneYn/x5fhqz+QGjWESWmzKPQKYf4t/bisRwtnR6aUUo3CsxL/7i+Qrx5ha8jFXJ98BwkdYnh2aj9aNwt0dmRKKdVoPCfxH09EPrqDvd6duDXrFzx4eS/uHNlBSygrpTyOZyT+3BPYF97AybJAbit+gBduHc6YrjHOjkoppZyi6U9fKS2kbOGNlOSd5Lbi3/LYTWM16SulPFrTTvwilC25G3N8K78uuZu7briacT1bOjsqpZRyqiad+MtWPYX3ziU8XXoD46+7gyv7tHZ2SEop5XRNNvHbty/Be/X/8VHZSFpNfJhrB8Q6OySllHIJTTLxS8oWyj6+i432Lhwf+RQzhrd3dkhKKeUyml7iz0sj750bSC0L5du+z3LvZT2cHZFSSrmUpjWd01ZC5oKpBBVlsbD9Szx4zQgtwaCUUpU0nR6/CCfev4/Ik1uY3/xB7r95Cl56c5ZSSp2lyST+E9/Mo+X+D1jofz0zZ/0GP58m89aUUqpeNYnsmL1vHVHfz2GNSWD07OcJD/R1dkhKKeWy3H6M316UR+EHt1MgzYi69S1aRwQ7OySllHJpte7xG2PaGmO+NcbsMsbsMMb8uoo2o40xp4wxWx1fj9Yt3LPt/tf9tCg9xraL/k6PDnH1fXillGpy6tLjtwG/FZHNxphQYJMxZqWI7KzU7jsRubIO56lW0o9L6HFsMSuaXc+4K65viFMopVSTU+sev4gcF5HNjse5wC6gTX0Fdj55WScIW3E/+007Bt3+nE7bVEqpGqqXi7vGmHigP/BTFbuHGmN+NsYsN8b0PMcxZhljNhpjNqanp5/7hCIcXHAnwfY8Cq58mWZhoXWIXimlPEudE78xJgT4CLhfRHIq7d4MtBORvsCLwNLqjiMi80UkQUQSoqOjz3nOxOXz6ZO7hnXtZtNn4Ig6vgOllPIsdUr8xhhfrKT/noh8XHm/iOSISJ7j8ReArzEmqi7nPHn8EO3XP8ZOn+4MvfmxuhxKKaU8Ul1m9RjgTWCXiDxbTZuWjnYYYwY5zpdZ23OK3U7Ku3fiLWUETp2Pn5/O11dKqQtVl1k9w4FbgG3GmK2ObY8AcQAi8iowBbjbGGMDCoEbRURqe8LNS55jYOEGfuj2B4Z36VOH0JVSynPVOvGLyPfAOafSiMg8YF5tz1FR2tG9dE98ikT//gyd+rv6OKRSSnkktynZkLLIuj8s6qbX8PL2dnI0Sinlvtwi8f+88j36Fazl546zaR3f1dnhKKWUW3P5xF+Ql02LHx7lkFc7Em78o7PDUUopt+fyiT/xvUdoSQZF4+fi6+fv7HCUUsrtuXTiP7TjJxJSFrE+4gq6Dx7n7HCUUqpJcOnEn/PpH8k1wXSZXuVtAkoppWrBZRP/oR0/0bdoA3vib6VZVEtnh6OUUk2Gyyb+jJXPUSD+dL/qrDL/Siml6sAlE7+ttIS+WSvYFn0l4ZEtnB2OUko1KS6Z+IuzT+CNndiJv3V2KEop1eS4ZOIPKM3m59CRtOlQbfl+pZRSteSSid+bMoJG3+/sMJRSqklyycRfZALpljDW2WEopVST5JKJ3x4c4+wQlFKqyXLJxB8UGuHsEJRSqslyycSPOWeZf6WUUnXgmolfKaVUg9HEr5RSHkYTv1JKeRhN/Eop5WHqlPiNMROMMXuMMfuNMQ9Xsd/fGPOBY/9Pxpj4upxPKaVU3dU68RtjvIGXgMuBHsA0Y0yPSs1uB7JEpBPwHPBUbc+nlFKqftSlxz8I2C8iB0WkBHgfmFypzWTgHcfjD4GxxuhcTaWUciafOry2DXC0wvNkYHB1bUTEZow5BUQCGZUPZoyZBcxyPC02xmx3PA4HTtUhztPq4zgNEUsUVXwejRiPu36+5/rc3PU9NcZx6vLvrb5jcZfP90I+M2e+p641bikitfoCrgfeqPD8FuDFSm12ALEVnh8AImtw7I0VHs+vbYyVjlnn4zRELBXfa1N5T41xjHN9bu76nhrpOLX+9+aK76kxYrmQz8yZ7+lC4qzLUE8y0LbC81ggpbo2xhgfrN9kJy/wPJ/WNsAGOI4rxVJfx9FYGvY4rhRLfXGl9+RKsdTXcRr8Z20cvyku/IVWIt8LjAWOARuAm0RkR4U29wK9RWS2MeZG4FoRmVqDY28UkYRaBeZmPOm91if93GpHP7cL5y6f2YXEWesxfrHG7O8DvgK8gQUissMY8wTWnxzLgDeBfxlj9mP19G+s4eHn1zYuN+RJ77U+6edWO/q5XTh3+cxqHGete/xKKaXck965q5RSHkYTv1JKeRhN/I3EGJPn7Bjc1fk+O2PMKmOMy198awzGmGuMMWKM6ebsWNyFMeaPxpgdxphEY8xWY0zl+5GaHE38SjUt04DvqflECo9mjBkKXAkMEJE+wKWceWNqk6SJvxEZY0YbYz6r8HyeMWam43GSMeZxY8xmY8w27bGd6VyfnbIYY0KA4Vg1sm50bDvXv7mJxpjdxpjvjTEvVGznQVoBGSJSDCAiGSKSYowZaIxZbYzZZIz5yhjTCsr/uvynMWatMWa7MWaQU6OvJU38riVDRAYArwAPOjsY5XauBr4Ukb3ASWPMgOoaGmMCgNeAy0VkBBDdSDG6mhVAW2PMXmPMy8aYUcYYX+BFYIqIDAQWAH+r8JpgERkG3OPY53Y08buWjx3fNwHxToxDuadpWMUScXyfdo623YCDInLI8XxRQwbmqkQkDxiIVScsHfgAuAvoBaw0xmwF/oRVmeC0RY7XrgHCjDHNGjXoelCXIm3qwtk485dtQKX9xY7vZejPprLzfXYezRgTCVwC9DLGCNZNlQIso+rPTavkOohIGbAKWGWM2QbcC+wQkaHVveQ8z12e9vgb12Ggh2OBmnCscheqZvSzO7cpwLsi0k5E4kWkLXC6N1/V57Yb6FBhcaQbGjVaF2GM6WqM6VxhUz9gFxDtuPCLMcbXGNOzQpsbHNtHAKdEpD6qgzYq7VU2Akddo2IROWqM+Q+QCOwDtjg3Mtenn12NTQP+XmnbR8BNwFmfm4gUGmPuAb40xmQA6xsxVlcSArzoGK6xAfuxhn3mAy84fln6AP/EqjYMkGWMWQuEAb9o/JDrTks2NAJjTF/gdRFxyxkAzqSfXcMxxoSISJ5jcaSXgH0i8pyz43JlxphVwIMistHZsdSFDvU0MGPMbKyLQX9ydizuRj+7Bnen4+LlDqyS6a85OR7VSLTHr5RSHkZ7/Eop5WE08TcAY0xbY8y3xphdjhogv3Zsb26MWWmM2ef4HuHYPt1RJyTRcUdg3wrHWmCMSauwBrFSStWJJv6GYQN+KyLdgSHAvcaYHsDDwDci0hn4xvEcrGl3oxy1Qv7CmQsqvA1MaKzAlVJNnyb+BiAix0Vks+NxLta84DbAZOAdR7N3sG6xR0TWikiWY/s6Ktwl6Lg78ELXKVZKqWpp4m9gjhtk+gM/AS1E5DhYvxyAmCpecjuwvLHiU0p5Hr2BqwE5qiV+BNwvIjnWdOlzth+DlfhHNEJ4SikPpT3+BuKo8PcR8J6InC6+llqhvGsrIK1C+z7AG8BkEcls7HiVUp5DE38DcNwJ+SawS0SerbBrGTDD8XgG8ImjfRxWZc5bHCV1lVKqwegNXA3AUbzpO2AbYHdsfgRrnP8/QBxwBLheRE4aY94ArsMqRAZgE5EEx7EWAaOBKCAVmCMibzbSW1FKNUGa+JVSysPoUI9SSnkYTfxKKeVhNPErpZSH0cSvlFIeRhO/Ukp5GE38SinlYTTxK6WUh/l/n4eSV7SNacUAAAAASUVORK5CYII=\n",
      "text/plain": [
       "<Figure size 432x288 with 1 Axes>"
      ]
     },
     "metadata": {
      "needs_background": "light"
     },
     "output_type": "display_data"
    }
   ],
   "source": [
    "# Definir barrera\n",
    "B = 244\n",
    "# Crear función indicadora\n",
    "I = (sim_closes > B).cumprod(axis=0) > 0\n",
    "# Definir strike\n",
    "strike = K\n",
    "# Calcular la prima de una opción Europea\n",
    "call = pd.DataFrame({'Prima_Europea':np.exp(-r*ndays)*np.fmax(sim_closes - strike, 0)\n",
    "                     .mean(axis=1)},index=dates)\n",
    "# Calcular la prima de una opción barrera\n",
    "callui = pd.DataFrame({'Prima up-and-in':np.exp(-r*ndays)*(I * np.fmax(sim_closes - strike, 0))\n",
    "                       .mean(axis=1)},index=dates)\n",
    "# Graficar el resultado de las dos primas previamente valuadas\n",
    "ax = callui.plot();\n",
    "call.plot(ax=ax);"
>>>>>>> Stashed changes
   ]
  },
  {
   "cell_type": "code",
<<<<<<< Updated upstream
   "execution_count": 28,
   "metadata": {},
   "outputs": [],
   "source": [
    "# Función para descargar precios de cierre ajustados:\n",
    "def get_adj_closes(tickers, start_date=None, end_date=None):\n",
    "    # Fecha inicio por defecto (start_date='2010-01-01') y fecha fin por defecto (end_date=today)\n",
    "    # Descargamos DataFrame con todos los datos\n",
    "    closes = web.DataReader(name=tickers, data_source='yahoo', start=start_date, end=end_date)\n",
    "    # Solo necesitamos los precios ajustados en el cierre\n",
    "    closes = closes['Adj Close']\n",
    "    # Se ordenan los índices de manera ascendente\n",
    "    closes.sort_index(inplace=True)\n",
    "    return closes\n",
    "\n",
    "####### Calculation of log-returns\n",
    "def calc_daily_ret(closes):\n",
    "    return np.log(closes/closes.shift(1)).dropna()"
   ]
  },
  {
   "cell_type": "markdown",
   "metadata": {},
   "source": [
    "## Respuesta Cristina"
   ]
  },
  {
   "cell_type": "markdown",
   "metadata": {},
   "source": [
    "Obtenfo los precios de cierre para poder ver el comportamiendo del activo en este caso Microsoft. Vemos que claramente la tendencia es que el precio continue subiendo."
=======
   "execution_count": 69,
   "metadata": {},
   "outputs": [
    {
     "data": {
      "text/plain": [
       "Prima_Europea    18.352\n",
       "Name: 2021-09-17 00:00:00, dtype: float64"
      ]
     },
     "execution_count": 69,
     "metadata": {},
     "output_type": "execute_result"
    }
   ],
   "source": [
    "# Europea\n",
    "call.iloc[-1]"
   ]
  },
  {
   "cell_type": "code",
   "execution_count": 70,
   "metadata": {},
   "outputs": [
    {
     "name": "stdout",
     "output_type": "stream",
     "text": [
      "(array([17.46974808]), array([19.23476828]))\n"
     ]
    }
   ],
   "source": [
    "confianza = 0.95\n",
    "sigma_est = sim_closes.iloc[-1].sem()\n",
    "mean_est = call.iloc[-1]\n",
    "# i1 = st.t.interval(confianza,nscen-1, loc=mean_est, scale=sigma_est)\n",
    "i2 = st.norm.interval(confianza, loc=mean_est, scale=sigma_est)\n",
    "print(i2)"
   ]
  },
  {
   "cell_type": "code",
   "execution_count": 71,
   "metadata": {},
   "outputs": [
    {
     "data": {
      "text/plain": [
       "Prima up-and-in    9.437\n",
       "Name: 2021-09-17 00:00:00, dtype: float64"
      ]
     },
     "execution_count": 71,
     "metadata": {},
     "output_type": "execute_result"
    }
   ],
   "source": [
    "# Call Down Out\n",
    "callui.iloc[-1]"
   ]
  },
  {
   "cell_type": "code",
   "execution_count": 72,
   "metadata": {},
   "outputs": [
    {
     "name": "stdout",
     "output_type": "stream",
     "text": [
      "(array([8.55426697]), array([10.31928717]))\n"
     ]
    }
   ],
   "source": [
    "confianza = 0.95\n",
    "sigma_est = sim_closes.iloc[-1].sem()\n",
    "mean_est = callui.iloc[-1]\n",
    "# i1 = st.t.interval(confianza,nscen-1, loc=mean_est, scale=sigma_est)\n",
    "i2 = st.norm.interval(confianza, loc=mean_est, scale=sigma_est)\n",
    "print(i2)"
>>>>>>> Stashed changes
   ]
  },
  {
   "cell_type": "code",
<<<<<<< Updated upstream
   "execution_count": 29,
=======
   "execution_count": 73,
>>>>>>> Stashed changes
   "metadata": {},
   "outputs": [
    {
     "data": {
      "text/plain": [
<<<<<<< Updated upstream
       "252.4600067138672"
      ]
     },
     "execution_count": 29,
=======
       "{'contractSymbol': 'MSFT210917C00255000',\n",
       " 'strike': 255.0,\n",
       " 'currency': 'USD',\n",
       " 'lastPrice': 12.61,\n",
       " 'change': 1.4099998,\n",
       " 'percentChange': 12.589285,\n",
       " 'volume': 135,\n",
       " 'openInterest': 3845,\n",
       " 'bid': 12.25,\n",
       " 'ask': 12.75,\n",
       " 'contractSize': 'REGULAR',\n",
       " 'expiration': 1631836800,\n",
       " 'lastTradeDate': 1620416217,\n",
       " 'impliedVolatility': 0.22809609802246095,\n",
       " 'inTheMoney': False}"
      ]
     },
     "execution_count": 73,
>>>>>>> Stashed changes
     "metadata": {},
     "output_type": "execute_result"
    }
   ],
   "source": [
<<<<<<< Updated upstream
    "closes = get_adj_closes(['MSFT'], '2017-01-01')\n",
    "closes_msft = closes.loc[:,'MSFT']\n",
    "closes_msft[-1]"
=======
    "opt_valuar['JSON']"
   ]
  },
  {
   "cell_type": "code",
   "execution_count": 75,
   "metadata": {},
   "outputs": [],
   "source": [
    "# Histograma tomando la tasa libre de riesgo\n",
    "freq, values = np.histogram(ret_appl+r-mu, bins=2000)\n",
    "prob = freq/np.sum(freq)"
   ]
  },
  {
   "cell_type": "code",
   "execution_count": 77,
   "metadata": {},
   "outputs": [],
   "source": [
    "# Datos de la opción y del día de actual\n",
    "today = pd.Timestamp(date.today())\n",
    "expiry = opt_valuar.Expiry\n",
    "\n",
    "# Fechas desde el día de hoy hasta la fecha de cierre del contrato (considerando unicamente los días hábiles)\n",
    "dates = pd.date_range(start=today, end=expiry, freq='B')\n",
    "\n",
    "# Cantidad de escenarios a simular para el método de montecarlo\n",
    "ndays = len(dates)\n",
    "nscen = 10000\n",
    "\n",
    "K = opt_valuar.Strike\n",
    "S0 = closes_appl.iloc[-1]\n",
    "\n",
    "ret = np.random.choice(values[1:], (ndays,nscen), p=prob)\n",
    "sim_ret_hist = pd.DataFrame(ret, index=dates)\n",
    "sim_closes_hist = S0*np.exp(sim_ret_hist.cumsum())\n",
    "sim_closes_hist.iloc[0,:] = S0"
>>>>>>> Stashed changes
   ]
  },
  {
   "cell_type": "code",
<<<<<<< Updated upstream
   "execution_count": 30,
=======
   "execution_count": 78,
>>>>>>> Stashed changes
   "metadata": {},
   "outputs": [
    {
     "data": {
<<<<<<< Updated upstream
      "image/png": "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\n",
      "text/plain": [
       "<Figure size 576x432 with 1 Axes>"
=======
      "image/png": "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\n",
      "text/plain": [
       "<Figure size 432x288 with 1 Axes>"
>>>>>>> Stashed changes
      ]
     },
     "metadata": {
      "needs_background": "light"
     },
     "output_type": "display_data"
    }
   ],
   "source": [
<<<<<<< Updated upstream
    "closes_msft.plot(figsize=(8,6));"
   ]
  },
  {
   "cell_type": "markdown",
   "metadata": {},
   "source": [
    "## Calculamos los rendimientos"
=======
    "# Definir barrera\n",
    "B = 244\n",
    "# Crear función indicadora\n",
    "I = (sim_closes > B).cumprod(axis=0) > 0\n",
    "# Definir strike\n",
    "strike = K\n",
    "# Calcular la prima de una opción Europea\n",
    "call_hist = pd.DataFrame({'Prima_Europea':np.exp(-r*ndays)*np.fmax(sim_closes_hist - strike, 0)\n",
    "                     .mean(axis=1)},index=dates)\n",
    "# Calcular la prima de una opción barrera\n",
    "callui_hist = pd.DataFrame({'Prima up-and-in':np.exp(-r*ndays)*(I * np.fmax(sim_closes_hist - strike, 0))\n",
    "                       .mean(axis=1)},index=dates)\n",
    "# Graficar el resultado de las dos primas previamente valuadas\n",
    "ax = callui_hist.plot();\n",
    "call_hist.plot(ax=ax);"
   ]
  },
  {
   "cell_type": "code",
   "execution_count": 80,
   "metadata": {},
   "outputs": [
    {
     "data": {
      "text/plain": [
       "Prima_Europea    20.123\n",
       "Name: 2021-09-17 00:00:00, dtype: float64"
      ]
     },
     "execution_count": 80,
     "metadata": {},
     "output_type": "execute_result"
    }
   ],
   "source": [
    "\n",
    "call_hist.iloc[-1]"
>>>>>>> Stashed changes
   ]
  },
  {
   "cell_type": "code",
<<<<<<< Updated upstream
   "execution_count": 31,
   "metadata": {},
   "outputs": [],
   "source": [
    "ret_msft = calc_daily_ret(closes_msft)"
=======
   "execution_count": 81,
   "metadata": {},
   "outputs": [
    {
     "name": "stdout",
     "output_type": "stream",
     "text": [
      "(19.213366205434827, 21.03303227617241)\n"
     ]
    }
   ],
   "source": [
    "confianza = 0.95\n",
    "sigma_est = sim_closes_hist.iloc[-1].sem()\n",
    "mean_est = call_hist.iloc[-1].Prima_Europea\n",
    "# i1 = st.t.interval(confianza,nscen-1, loc=mean_est, scale=sigma_est)\n",
    "i2 = st.norm.interval(confianza, loc=mean_est, scale=sigma_est)\n",
    "print(i2)"
   ]
  },
  {
   "cell_type": "code",
   "execution_count": 83,
   "metadata": {},
   "outputs": [
    {
     "data": {
      "text/plain": [
       "Prima up-and-in    4.141\n",
       "Name: 2021-09-17 00:00:00, dtype: float64"
      ]
     },
     "execution_count": 83,
     "metadata": {},
     "output_type": "execute_result"
    }
   ],
   "source": [
    "\n",
    "callui_hist.iloc[-1]"
   ]
  },
  {
   "cell_type": "code",
   "execution_count": 86,
   "metadata": {},
   "outputs": [
    {
     "name": "stdout",
     "output_type": "stream",
     "text": [
      "(array([3.23131479]), array([5.05098086]))\n"
     ]
    }
   ],
   "source": [
    "confianza = 0.95\n",
    "sigma_est = sim_closes_hist.iloc[-1].sem()\n",
    "mean_est = callui_hist.iloc[-1]\n",
    "# i1 = st.t.interval(confianza,nscen-1, loc=mean_est, scale=sigma_est)\n",
    "i2 = st.norm.interval(confianza, loc=mean_est, scale=sigma_est)\n",
    "print(i2)"
>>>>>>> Stashed changes
   ]
  },
  {
   "cell_type": "markdown",
   "metadata": {},
   "source": [
<<<<<<< Updated upstream
    "## Descargamos datos de las opciones para poder valuarlos"
=======
    "#### Valuación de opción Barrera Put Up and Out"
>>>>>>> Stashed changes
   ]
  },
  {
   "cell_type": "code",
<<<<<<< Updated upstream
   "execution_count": 32,
=======
   "execution_count": 89,
>>>>>>> Stashed changes
   "metadata": {},
   "outputs": [
    {
     "data": {
      "text/html": [
       "<div>\n",
       "<style scoped>\n",
       "    .dataframe tbody tr th:only-of-type {\n",
       "        vertical-align: middle;\n",
       "    }\n",
       "\n",
       "    .dataframe tbody tr th {\n",
       "        vertical-align: top;\n",
       "    }\n",
       "\n",
       "    .dataframe thead th {\n",
       "        text-align: right;\n",
       "    }\n",
       "</style>\n",
       "<table border=\"1\" class=\"dataframe\">\n",
       "  <thead>\n",
       "    <tr style=\"text-align: right;\">\n",
       "      <th></th>\n",
       "      <th>Strike</th>\n",
<<<<<<< Updated upstream
       "      <th>Type</th>\n",
       "      <th>Symbol</th>\n",
=======
       "      <th>Expiry</th>\n",
       "      <th>Type</th>\n",
>>>>>>> Stashed changes
       "      <th>...</th>\n",
       "      <th>Quote_Time</th>\n",
       "      <th>Last_Trade_Date</th>\n",
       "      <th>JSON</th>\n",
       "    </tr>\n",
<<<<<<< Updated upstream
       "    <tr>\n",
       "      <th>Expiry</th>\n",
       "      <th></th>\n",
       "      <th></th>\n",
       "      <th></th>\n",
       "      <th></th>\n",
       "      <th></th>\n",
       "      <th></th>\n",
       "      <th></th>\n",
       "    </tr>\n",
       "  </thead>\n",
       "  <tbody>\n",
       "    <tr>\n",
       "      <th>2021-05-07</th>\n",
       "      <td>200.0</td>\n",
       "      <td>call</td>\n",
       "      <td>MSFT210507C00200000</td>\n",
       "      <td>...</td>\n",
       "      <td>2021-05-07 20:00:02</td>\n",
       "      <td>2021-05-05 19:00:24</td>\n",
       "      <td>{'contractSymbol': 'MSFT210507C00200000', 'str...</td>\n",
       "    </tr>\n",
       "    <tr>\n",
       "      <th>2021-05-07</th>\n",
       "      <td>155.0</td>\n",
       "      <td>put</td>\n",
       "      <td>MSFT210507P00155000</td>\n",
       "      <td>...</td>\n",
       "      <td>2021-05-07 20:00:02</td>\n",
       "      <td>2021-04-23 17:46:50</td>\n",
       "      <td>{'contractSymbol': 'MSFT210507P00155000', 'str...</td>\n",
       "    </tr>\n",
       "    <tr>\n",
       "      <th>2021-05-07</th>\n",
       "      <td>120.0</td>\n",
       "      <td>put</td>\n",
       "      <td>MSFT210507P00120000</td>\n",
       "      <td>...</td>\n",
       "      <td>2021-05-07 20:00:02</td>\n",
       "      <td>2021-05-03 13:30:01</td>\n",
       "      <td>{'contractSymbol': 'MSFT210507P00120000', 'str...</td>\n",
       "    </tr>\n",
       "    <tr>\n",
       "      <th>2021-05-07</th>\n",
       "      <td>120.0</td>\n",
       "      <td>call</td>\n",
       "      <td>MSFT210507C00120000</td>\n",
       "      <td>...</td>\n",
       "      <td>2021-05-07 20:00:02</td>\n",
       "      <td>2021-05-06 19:59:12</td>\n",
       "      <td>{'contractSymbol': 'MSFT210507C00120000', 'str...</td>\n",
       "    </tr>\n",
       "    <tr>\n",
       "      <th>2021-05-07</th>\n",
       "      <td>252.5</td>\n",
       "      <td>put</td>\n",
       "      <td>MSFT210507P00252500</td>\n",
       "      <td>...</td>\n",
       "      <td>2021-05-07 20:00:02</td>\n",
       "      <td>2021-05-07 19:59:33</td>\n",
       "      <td>{'contractSymbol': 'MSFT210507P00252500', 'str...</td>\n",
       "    </tr>\n",
       "  </tbody>\n",
       "</table>\n",
       "<p>5 rows × 18 columns</p>\n",
       "</div>"
      ],
      "text/plain": [
       "            Strike  Type               Symbol  ...          Quote_Time  \\\n",
       "Expiry                                         ...                       \n",
       "2021-05-07   200.0  call  MSFT210507C00200000  ... 2021-05-07 20:00:02   \n",
       "2021-05-07   155.0   put  MSFT210507P00155000  ... 2021-05-07 20:00:02   \n",
       "2021-05-07   120.0   put  MSFT210507P00120000  ... 2021-05-07 20:00:02   \n",
       "2021-05-07   120.0  call  MSFT210507C00120000  ... 2021-05-07 20:00:02   \n",
       "2021-05-07   252.5   put  MSFT210507P00252500  ... 2021-05-07 20:00:02   \n",
       "\n",
       "               Last_Trade_Date  \\\n",
       "Expiry                           \n",
       "2021-05-07 2021-05-05 19:00:24   \n",
       "2021-05-07 2021-04-23 17:46:50   \n",
       "2021-05-07 2021-05-03 13:30:01   \n",
       "2021-05-07 2021-05-06 19:59:12   \n",
       "2021-05-07 2021-05-07 19:59:33   \n",
       "\n",
       "                                                         JSON  \n",
       "Expiry                                                         \n",
       "2021-05-07  {'contractSymbol': 'MSFT210507C00200000', 'str...  \n",
       "2021-05-07  {'contractSymbol': 'MSFT210507P00155000', 'str...  \n",
       "2021-05-07  {'contractSymbol': 'MSFT210507P00120000', 'str...  \n",
       "2021-05-07  {'contractSymbol': 'MSFT210507C00120000', 'str...  \n",
       "2021-05-07  {'contractSymbol': 'MSFT210507P00252500', 'str...  \n",
       "\n",
       "[5 rows x 18 columns]"
      ]
     },
     "execution_count": 32,
=======
       "  </thead>\n",
       "  <tbody>\n",
       "    <tr>\n",
       "      <th>53</th>\n",
       "      <td>100.0</td>\n",
       "      <td>2021-09-17</td>\n",
       "      <td>put</td>\n",
       "      <td>...</td>\n",
       "      <td>2021-05-07 20:00:02</td>\n",
       "      <td>2021-05-07 19:52:08</td>\n",
       "      <td>{'contractSymbol': 'MSFT210917P00100000', 'str...</td>\n",
       "    </tr>\n",
       "    <tr>\n",
       "      <th>65</th>\n",
       "      <td>105.0</td>\n",
       "      <td>2021-09-17</td>\n",
       "      <td>put</td>\n",
       "      <td>...</td>\n",
       "      <td>2021-05-07 20:00:02</td>\n",
       "      <td>2021-05-04 18:46:11</td>\n",
       "      <td>{'contractSymbol': 'MSFT210917P00105000', 'str...</td>\n",
       "    </tr>\n",
       "    <tr>\n",
       "      <th>79</th>\n",
       "      <td>110.0</td>\n",
       "      <td>2021-09-17</td>\n",
       "      <td>put</td>\n",
       "      <td>...</td>\n",
       "      <td>2021-05-07 20:00:02</td>\n",
       "      <td>2021-04-28 13:41:31</td>\n",
       "      <td>{'contractSymbol': 'MSFT210917P00110000', 'str...</td>\n",
       "    </tr>\n",
       "    <tr>\n",
       "      <th>100</th>\n",
       "      <td>115.0</td>\n",
       "      <td>2021-09-17</td>\n",
       "      <td>put</td>\n",
       "      <td>...</td>\n",
       "      <td>2021-05-07 20:00:02</td>\n",
       "      <td>2021-04-29 16:34:18</td>\n",
       "      <td>{'contractSymbol': 'MSFT210917P00115000', 'str...</td>\n",
       "    </tr>\n",
       "    <tr>\n",
       "      <th>127</th>\n",
       "      <td>120.0</td>\n",
       "      <td>2021-09-17</td>\n",
       "      <td>put</td>\n",
       "      <td>...</td>\n",
       "      <td>2021-05-07 20:00:02</td>\n",
       "      <td>2021-05-03 14:10:19</td>\n",
       "      <td>{'contractSymbol': 'MSFT210917P00120000', 'str...</td>\n",
       "    </tr>\n",
       "    <tr>\n",
       "      <th>...</th>\n",
       "      <td>...</td>\n",
       "      <td>...</td>\n",
       "      <td>...</td>\n",
       "      <td>...</td>\n",
       "      <td>...</td>\n",
       "      <td>...</td>\n",
       "      <td>...</td>\n",
       "    </tr>\n",
       "    <tr>\n",
       "      <th>1686</th>\n",
       "      <td>340.0</td>\n",
       "      <td>2021-09-17</td>\n",
       "      <td>put</td>\n",
       "      <td>...</td>\n",
       "      <td>2021-05-07 20:00:02</td>\n",
       "      <td>2021-04-09 19:38:07</td>\n",
       "      <td>{'contractSymbol': 'MSFT210917P00340000', 'str...</td>\n",
       "    </tr>\n",
       "    <tr>\n",
       "      <th>1709</th>\n",
       "      <td>345.0</td>\n",
       "      <td>2021-09-17</td>\n",
       "      <td>put</td>\n",
       "      <td>...</td>\n",
       "      <td>2021-05-07 20:00:02</td>\n",
       "      <td>2021-02-24 14:39:00</td>\n",
       "      <td>{'contractSymbol': 'MSFT210917P00345000', 'str...</td>\n",
       "    </tr>\n",
       "    <tr>\n",
       "      <th>1733</th>\n",
       "      <td>350.0</td>\n",
       "      <td>2021-09-17</td>\n",
       "      <td>put</td>\n",
       "      <td>...</td>\n",
       "      <td>2021-05-07 20:00:02</td>\n",
       "      <td>2021-04-28 13:32:49</td>\n",
       "      <td>{'contractSymbol': 'MSFT210917P00350000', 'str...</td>\n",
       "    </tr>\n",
       "    <tr>\n",
       "      <th>1776</th>\n",
       "      <td>360.0</td>\n",
       "      <td>2021-09-17</td>\n",
       "      <td>put</td>\n",
       "      <td>...</td>\n",
       "      <td>2021-05-07 20:00:02</td>\n",
       "      <td>2021-04-06 17:31:55</td>\n",
       "      <td>{'contractSymbol': 'MSFT210917P00360000', 'str...</td>\n",
       "    </tr>\n",
       "    <tr>\n",
       "      <th>1812</th>\n",
       "      <td>370.0</td>\n",
       "      <td>2021-09-17</td>\n",
       "      <td>put</td>\n",
       "      <td>...</td>\n",
       "      <td>2021-05-07 20:00:02</td>\n",
       "      <td>2021-04-06 17:33:39</td>\n",
       "      <td>{'contractSymbol': 'MSFT210917P00370000', 'str...</td>\n",
       "    </tr>\n",
       "  </tbody>\n",
       "</table>\n",
       "<p>53 rows × 19 columns</p>\n",
       "</div>"
      ],
      "text/plain": [
       "      Strike     Expiry Type  ...          Quote_Time     Last_Trade_Date  \\\n",
       "53     100.0 2021-09-17  put  ... 2021-05-07 20:00:02 2021-05-07 19:52:08   \n",
       "65     105.0 2021-09-17  put  ... 2021-05-07 20:00:02 2021-05-04 18:46:11   \n",
       "79     110.0 2021-09-17  put  ... 2021-05-07 20:00:02 2021-04-28 13:41:31   \n",
       "100    115.0 2021-09-17  put  ... 2021-05-07 20:00:02 2021-04-29 16:34:18   \n",
       "127    120.0 2021-09-17  put  ... 2021-05-07 20:00:02 2021-05-03 14:10:19   \n",
       "...      ...        ...  ...  ...                 ...                 ...   \n",
       "1686   340.0 2021-09-17  put  ... 2021-05-07 20:00:02 2021-04-09 19:38:07   \n",
       "1709   345.0 2021-09-17  put  ... 2021-05-07 20:00:02 2021-02-24 14:39:00   \n",
       "1733   350.0 2021-09-17  put  ... 2021-05-07 20:00:02 2021-04-28 13:32:49   \n",
       "1776   360.0 2021-09-17  put  ... 2021-05-07 20:00:02 2021-04-06 17:31:55   \n",
       "1812   370.0 2021-09-17  put  ... 2021-05-07 20:00:02 2021-04-06 17:33:39   \n",
       "\n",
       "                                                   JSON  \n",
       "53    {'contractSymbol': 'MSFT210917P00100000', 'str...  \n",
       "65    {'contractSymbol': 'MSFT210917P00105000', 'str...  \n",
       "79    {'contractSymbol': 'MSFT210917P00110000', 'str...  \n",
       "100   {'contractSymbol': 'MSFT210917P00115000', 'str...  \n",
       "127   {'contractSymbol': 'MSFT210917P00120000', 'str...  \n",
       "...                                                 ...  \n",
       "1686  {'contractSymbol': 'MSFT210917P00340000', 'str...  \n",
       "1709  {'contractSymbol': 'MSFT210917P00345000', 'str...  \n",
       "1733  {'contractSymbol': 'MSFT210917P00350000', 'str...  \n",
       "1776  {'contractSymbol': 'MSFT210917P00360000', 'str...  \n",
       "1812  {'contractSymbol': 'MSFT210917P00370000', 'str...  \n",
       "\n",
       "[53 rows x 19 columns]"
      ]
     },
     "execution_count": 89,
>>>>>>> Stashed changes
     "metadata": {},
     "output_type": "execute_result"
    }
   ],
   "source": [
<<<<<<< Updated upstream
    "pd.set_option('display.max_rows', 10)\n",
    "\n",
    "msft = web.YahooOptions('MSFT')\n",
    "msft_opt = msft.get_all_data().reset_index()\n",
    "msft_opt.set_index('Expiry').sort_index().head(5)"
   ]
  },
  {
   "cell_type": "markdown",
   "metadata": {},
   "source": [
    "## Sonrisa de Volatilidad\n",
    "La utilizamos para definir tanto el strike como el valor de la barrera"
=======
    "opt_deseada = appl_opt.loc[(appl_opt.Type=='put') & (appl_opt.Expiry=='2021-09-17')]\n",
    "opt_deseada"
>>>>>>> Stashed changes
   ]
  },
  {
   "cell_type": "code",
<<<<<<< Updated upstream
   "execution_count": 33,
=======
   "execution_count": 90,
>>>>>>> Stashed changes
   "metadata": {},
   "outputs": [
    {
     "data": {
<<<<<<< Updated upstream
      "image/png": "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\n",
      "text/plain": [
       "<Figure size 576x432 with 1 Axes>"
      ]
     },
     "metadata": {
      "needs_background": "light"
     },
     "output_type": "display_data"
    }
   ],
   "source": [
    "call_opt = msft_opt.loc[(msft_opt.Expiry== '2021-09-17') & (msft_opt.Type=='call')]\n",
    "\n",
    "ax = call_opt.set_index('Strike').loc[:, 'IV'].plot(figsize=(8,6))\n",
    "ax.axvline(call_opt.Underlying_Price.iloc[0], color='g');"
   ]
  },
  {
   "cell_type": "code",
   "execution_count": 34,
   "metadata": {},
   "outputs": [
    {
     "data": {
      "text/plain": [
       "252.46"
      ]
     },
     "execution_count": 34,
     "metadata": {},
     "output_type": "execute_result"
    }
   ],
   "source": [
    "call_opt.Underlying_Price.iloc[0]"
=======
      "text/plain": [
       "<matplotlib.lines.Line2D at 0x1d1e4c667f0>"
      ]
     },
     "execution_count": 90,
     "metadata": {},
     "output_type": "execute_result"
    },
    {
     "data": {
      "image/png": "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\n",
      "text/plain": [
       "<Figure size 576x432 with 1 Axes>"
      ]
     },
     "metadata": {
      "needs_background": "light"
     },
     "output_type": "display_data"
    }
   ],
   "source": [
    "ax = opt_deseada.set_index('Strike').loc[:, 'IV'].plot(figsize=(8,6))\n",
    "ax.axvline(opt_deseada.Underlying_Price.iloc[0], color='g')"
>>>>>>> Stashed changes
   ]
  },
  {
   "cell_type": "code",
<<<<<<< Updated upstream
   "execution_count": 35,
=======
   "execution_count": 94,
>>>>>>> Stashed changes
   "metadata": {},
   "outputs": [
    {
     "data": {
      "text/html": [
       "<div>\n",
       "<style scoped>\n",
       "    .dataframe tbody tr th:only-of-type {\n",
       "        vertical-align: middle;\n",
       "    }\n",
       "\n",
       "    .dataframe tbody tr th {\n",
       "        vertical-align: top;\n",
       "    }\n",
       "\n",
       "    .dataframe thead th {\n",
       "        text-align: right;\n",
       "    }\n",
       "</style>\n",
       "<table border=\"1\" class=\"dataframe\">\n",
       "  <thead>\n",
       "    <tr style=\"text-align: right;\">\n",
       "      <th></th>\n",
       "      <th>Strike</th>\n",
       "      <th>Expiry</th>\n",
       "      <th>Type</th>\n",
       "      <th>...</th>\n",
       "      <th>Quote_Time</th>\n",
       "      <th>Last_Trade_Date</th>\n",
       "      <th>JSON</th>\n",
       "    </tr>\n",
       "  </thead>\n",
       "  <tbody>\n",
       "    <tr>\n",
<<<<<<< Updated upstream
       "      <th>1136</th>\n",
       "      <td>260.0</td>\n",
       "      <td>2021-09-17</td>\n",
       "      <td>call</td>\n",
       "      <td>...</td>\n",
       "      <td>2021-05-07 20:00:02</td>\n",
       "      <td>2021-05-07 19:56:00</td>\n",
       "      <td>{'contractSymbol': 'MSFT210917C00260000', 'str...</td>\n",
=======
       "      <th>945</th>\n",
       "      <td>240.0</td>\n",
       "      <td>2021-09-17</td>\n",
       "      <td>put</td>\n",
       "      <td>...</td>\n",
       "      <td>2021-05-07 20:00:02</td>\n",
       "      <td>2021-05-07 19:49:48</td>\n",
       "      <td>{'contractSymbol': 'MSFT210917P00240000', 'str...</td>\n",
>>>>>>> Stashed changes
       "    </tr>\n",
       "  </tbody>\n",
       "</table>\n",
       "<p>1 rows × 19 columns</p>\n",
       "</div>"
      ],
      "text/plain": [
<<<<<<< Updated upstream
       "      Strike     Expiry  Type  ...          Quote_Time     Last_Trade_Date  \\\n",
       "1136   260.0 2021-09-17  call  ... 2021-05-07 20:00:02 2021-05-07 19:56:00   \n",
       "\n",
       "                                                   JSON  \n",
       "1136  {'contractSymbol': 'MSFT210917C00260000', 'str...  \n",
=======
       "     Strike     Expiry Type  ...          Quote_Time     Last_Trade_Date  \\\n",
       "945   240.0 2021-09-17  put  ... 2021-05-07 20:00:02 2021-05-07 19:49:48   \n",
       "\n",
       "                                                  JSON  \n",
       "945  {'contractSymbol': 'MSFT210917P00240000', 'str...  \n",
>>>>>>> Stashed changes
       "\n",
       "[1 rows x 19 columns]"
      ]
     },
<<<<<<< Updated upstream
     "execution_count": 35,
=======
     "execution_count": 94,
>>>>>>> Stashed changes
     "metadata": {},
     "output_type": "execute_result"
    }
   ],
   "source": [
<<<<<<< Updated upstream
    "K=260\n",
    "opt_deseada = msft_opt.loc[(msft_opt.Type=='call') & (msft_opt.Strike==K) & (msft_opt.Expiry=='2021-09-17')]\n",
=======
    "strike = 240\n",
    "opt_deseada = appl_opt.loc[(appl_opt.Type=='put') & (appl_opt.Strike==strike) & (appl_opt.Expiry=='2021-09-17')]\n",
>>>>>>> Stashed changes
    "opt_deseada"
   ]
  },
  {
   "cell_type": "code",
<<<<<<< Updated upstream
   "execution_count": 36,
=======
   "execution_count": 98,
>>>>>>> Stashed changes
   "metadata": {},
   "outputs": [
    {
     "data": {
      "text/plain": [
<<<<<<< Updated upstream
       "Strike                                                            260\n",
       "Expiry                                            2021-09-17 00:00:00\n",
       "Type                                                             call\n",
       "Symbol                                            MSFT210917C00260000\n",
       "Last                                                             10.4\n",
=======
       "Strike                                                            240\n",
       "Expiry                                            2021-09-17 00:00:00\n",
       "Type                                                              put\n",
       "Symbol                                            MSFT210917P00240000\n",
       "Last                                                             8.92\n",
>>>>>>> Stashed changes
       "                                          ...                        \n",
       "Underlying                                                       MSFT\n",
       "Underlying_Price                                                  252\n",
       "Quote_Time                                        2021-05-07 20:00:02\n",
<<<<<<< Updated upstream
       "Last_Trade_Date                                   2021-05-07 19:56:00\n",
       "JSON                {'contractSymbol': 'MSFT210917C00260000', 'str...\n",
       "Name: 1136, Length: 19, dtype: object"
      ]
     },
     "execution_count": 36,
=======
       "Last_Trade_Date                                   2021-05-07 19:49:48\n",
       "JSON                {'contractSymbol': 'MSFT210917P00240000', 'str...\n",
       "Name: 945, Length: 19, dtype: object"
      ]
     },
     "execution_count": 98,
>>>>>>> Stashed changes
     "metadata": {},
     "output_type": "execute_result"
    }
   ],
   "source": [
    "opt_valuar = opt_deseada.loc[list(opt_deseada.index)[0]]\n",
    "opt_valuar"
   ]
  },
  {
<<<<<<< Updated upstream
   "cell_type": "markdown",
   "metadata": {},
   "source": [
    "## Simulación de Precios -  Modelo Normal"
=======
   "cell_type": "code",
   "execution_count": 99,
   "metadata": {},
   "outputs": [
    {
     "data": {
      "text/plain": [
       "{'contractSymbol': 'MSFT210917P00240000',\n",
       " 'strike': 240.0,\n",
       " 'currency': 'USD',\n",
       " 'lastPrice': 8.92,\n",
       " 'change': -2.4799995,\n",
       " 'percentChange': -21.754383,\n",
       " 'volume': 171,\n",
       " 'openInterest': 4265,\n",
       " 'bid': 8.85,\n",
       " 'ask': 9.35,\n",
       " 'contractSize': 'REGULAR',\n",
       " 'expiration': 1631836800,\n",
       " 'lastTradeDate': 1620416988,\n",
       " 'impliedVolatility': 0.24817646362304688,\n",
       " 'inTheMoney': False}"
      ]
     },
     "execution_count": 99,
     "metadata": {},
     "output_type": "execute_result"
    }
   ],
   "source": [
    "opt_valuar['JSON']"
>>>>>>> Stashed changes
   ]
  },
  {
   "cell_type": "code",
<<<<<<< Updated upstream
   "execution_count": 37,
=======
   "execution_count": 102,
>>>>>>> Stashed changes
   "metadata": {},
   "outputs": [
    {
     "data": {
      "text/plain": [
<<<<<<< Updated upstream
       "(0.0013372091431082382, 0.01797312595647632, 1.6666666666666665e-06)"
      ]
     },
     "execution_count": 37,
=======
       "(0.001337088088365077, 0.0179730621197052, 1.6666666666666667e-05)"
      ]
     },
     "execution_count": 102,
>>>>>>> Stashed changes
     "metadata": {},
     "output_type": "execute_result"
    }
   ],
   "source": [
<<<<<<< Updated upstream
    "mu = ret_msft.mean()\n",
    "sigma = ret_msft.std()\n",
    "r = 0.0006/360\n",
=======
    "mu = ret_appl.mean()\n",
    "sigma = ret_appl.std()\n",
    "r = 0.006/360\n",
>>>>>>> Stashed changes
    "mu, sigma, r"
   ]
  },
  {
   "cell_type": "code",
<<<<<<< Updated upstream
   "execution_count": 38,
   "metadata": {},
   "outputs": [],
=======
   "execution_count": 103,
   "metadata": {},
   "outputs": [
    {
     "data": {
      "text/html": [
       "<div>\n",
       "<style scoped>\n",
       "    .dataframe tbody tr th:only-of-type {\n",
       "        vertical-align: middle;\n",
       "    }\n",
       "\n",
       "    .dataframe tbody tr th {\n",
       "        vertical-align: top;\n",
       "    }\n",
       "\n",
       "    .dataframe thead th {\n",
       "        text-align: right;\n",
       "    }\n",
       "</style>\n",
       "<table border=\"1\" class=\"dataframe\">\n",
       "  <thead>\n",
       "    <tr style=\"text-align: right;\">\n",
       "      <th></th>\n",
       "      <th>0</th>\n",
       "      <th>1</th>\n",
       "      <th>2</th>\n",
       "      <th>...</th>\n",
       "      <th>9997</th>\n",
       "      <th>9998</th>\n",
       "      <th>9999</th>\n",
       "    </tr>\n",
       "  </thead>\n",
       "  <tbody>\n",
       "    <tr>\n",
       "      <th>2021-05-07</th>\n",
       "      <td>256.134</td>\n",
       "      <td>253.936</td>\n",
       "      <td>256.133</td>\n",
       "      <td>...</td>\n",
       "      <td>251.975</td>\n",
       "      <td>250.377</td>\n",
       "      <td>250.850</td>\n",
       "    </tr>\n",
       "    <tr>\n",
       "      <th>2021-05-10</th>\n",
       "      <td>264.517</td>\n",
       "      <td>259.796</td>\n",
       "      <td>261.488</td>\n",
       "      <td>...</td>\n",
       "      <td>250.313</td>\n",
       "      <td>249.185</td>\n",
       "      <td>251.316</td>\n",
       "    </tr>\n",
       "    <tr>\n",
       "      <th>2021-05-11</th>\n",
       "      <td>265.781</td>\n",
       "      <td>256.583</td>\n",
       "      <td>262.036</td>\n",
       "      <td>...</td>\n",
       "      <td>252.516</td>\n",
       "      <td>250.901</td>\n",
       "      <td>246.346</td>\n",
       "    </tr>\n",
       "    <tr>\n",
       "      <th>2021-05-12</th>\n",
       "      <td>263.686</td>\n",
       "      <td>255.080</td>\n",
       "      <td>263.517</td>\n",
       "      <td>...</td>\n",
       "      <td>259.743</td>\n",
       "      <td>254.148</td>\n",
       "      <td>251.460</td>\n",
       "    </tr>\n",
       "    <tr>\n",
       "      <th>2021-05-13</th>\n",
       "      <td>266.458</td>\n",
       "      <td>267.360</td>\n",
       "      <td>260.203</td>\n",
       "      <td>...</td>\n",
       "      <td>254.979</td>\n",
       "      <td>259.909</td>\n",
       "      <td>253.842</td>\n",
       "    </tr>\n",
       "    <tr>\n",
       "      <th>...</th>\n",
       "      <td>...</td>\n",
       "      <td>...</td>\n",
       "      <td>...</td>\n",
       "      <td>...</td>\n",
       "      <td>...</td>\n",
       "      <td>...</td>\n",
       "      <td>...</td>\n",
       "    </tr>\n",
       "    <tr>\n",
       "      <th>2021-09-13</th>\n",
       "      <td>308.327</td>\n",
       "      <td>313.207</td>\n",
       "      <td>258.871</td>\n",
       "      <td>...</td>\n",
       "      <td>206.062</td>\n",
       "      <td>260.285</td>\n",
       "      <td>331.326</td>\n",
       "    </tr>\n",
       "    <tr>\n",
       "      <th>2021-09-14</th>\n",
       "      <td>319.976</td>\n",
       "      <td>318.225</td>\n",
       "      <td>258.295</td>\n",
       "      <td>...</td>\n",
       "      <td>202.297</td>\n",
       "      <td>270.078</td>\n",
       "      <td>333.179</td>\n",
       "    </tr>\n",
       "    <tr>\n",
       "      <th>2021-09-15</th>\n",
       "      <td>330.954</td>\n",
       "      <td>311.574</td>\n",
       "      <td>258.301</td>\n",
       "      <td>...</td>\n",
       "      <td>199.984</td>\n",
       "      <td>270.542</td>\n",
       "      <td>332.479</td>\n",
       "    </tr>\n",
       "    <tr>\n",
       "      <th>2021-09-16</th>\n",
       "      <td>334.954</td>\n",
       "      <td>309.265</td>\n",
       "      <td>258.996</td>\n",
       "      <td>...</td>\n",
       "      <td>202.992</td>\n",
       "      <td>269.185</td>\n",
       "      <td>325.145</td>\n",
       "    </tr>\n",
       "    <tr>\n",
       "      <th>2021-09-17</th>\n",
       "      <td>345.308</td>\n",
       "      <td>311.264</td>\n",
       "      <td>269.327</td>\n",
       "      <td>...</td>\n",
       "      <td>211.107</td>\n",
       "      <td>269.079</td>\n",
       "      <td>325.678</td>\n",
       "    </tr>\n",
       "  </tbody>\n",
       "</table>\n",
       "<p>96 rows × 10000 columns</p>\n",
       "</div>"
      ],
      "text/plain": [
       "               0        1        2     ...     9997     9998     9999\n",
       "2021-05-07  256.134  253.936  256.133  ...  251.975  250.377  250.850\n",
       "2021-05-10  264.517  259.796  261.488  ...  250.313  249.185  251.316\n",
       "2021-05-11  265.781  256.583  262.036  ...  252.516  250.901  246.346\n",
       "2021-05-12  263.686  255.080  263.517  ...  259.743  254.148  251.460\n",
       "2021-05-13  266.458  267.360  260.203  ...  254.979  259.909  253.842\n",
       "...             ...      ...      ...  ...      ...      ...      ...\n",
       "2021-09-13  308.327  313.207  258.871  ...  206.062  260.285  331.326\n",
       "2021-09-14  319.976  318.225  258.295  ...  202.297  270.078  333.179\n",
       "2021-09-15  330.954  311.574  258.301  ...  199.984  270.542  332.479\n",
       "2021-09-16  334.954  309.265  258.996  ...  202.992  269.185  325.145\n",
       "2021-09-17  345.308  311.264  269.327  ...  211.107  269.079  325.678\n",
       "\n",
       "[96 rows x 10000 columns]"
      ]
     },
     "execution_count": 103,
     "metadata": {},
     "output_type": "execute_result"
    }
   ],
>>>>>>> Stashed changes
   "source": [
    "from datetime import date\n",
    "\n",
    "# Datos de la opción y del día de actual\n",
    "today = pd.Timestamp(date.today())\n",
    "expiry = opt_valuar.Expiry\n",
    "\n",
    "# Fechas desde el día de hoy hasta la fecha de cierre del contrato (considerando unicamente los días hábiles)\n",
    "dates = pd.date_range(start=today, end=expiry, freq='B')\n",
    "\n",
    "# Cantidad de escenarios a simular para el método de montecarlo\n",
    "ndays = len(dates)\n",
    "nscen = 10000\n",
    "\n",
    "K = opt_valuar.Strike\n",
<<<<<<< Updated upstream
    "S0 = closes_msft.iloc[-1]\n",
    "sim_ret = pd.DataFrame(sigma*np.random.randn(ndays,nscen)+r,index=dates)\n",
    "sim_closes = S0*np.exp(sim_ret.cumsum())"
   ]
  },
  {
   "cell_type": "markdown",
   "metadata": {},
   "source": [
    "## Valuación Europea"
=======
    "S0 = closes_appl.iloc[-1]\n",
    "sim_ret = pd.DataFrame(sigma*np.random.randn(ndays,nscen)+r,index=dates)\n",
    "sim_closes = S0*np.exp(sim_ret.cumsum())\n",
    "sim_closes\n"
   ]
  },
  {
   "cell_type": "code",
   "execution_count": 104,
   "metadata": {},
   "outputs": [
    {
     "data": {
      "text/plain": [
       "252.42660522460938"
      ]
     },
     "execution_count": 104,
     "metadata": {},
     "output_type": "execute_result"
    }
   ],
   "source": [
    "S0"
>>>>>>> Stashed changes
   ]
  },
  {
   "cell_type": "code",
<<<<<<< Updated upstream
   "execution_count": 39,
=======
   "execution_count": 108,
>>>>>>> Stashed changes
   "metadata": {},
   "outputs": [
    {
     "data": {
<<<<<<< Updated upstream
      "image/png": "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\n",
=======
      "image/png": "iVBORw0KGgoAAAANSUhEUgAAAXQAAAEHCAYAAAC+1b08AAAABHNCSVQICAgIfAhkiAAAAAlwSFlzAAALEgAACxIB0t1+/AAAADl0RVh0U29mdHdhcmUAbWF0cGxvdGxpYiB2ZXJzaW9uIDMuMC4yLCBodHRwOi8vbWF0cGxvdGxpYi5vcmcvOIA7rQAAIABJREFUeJzt3Xd8VFX+//HXSYckJJAECISQAIEQQguhtwAKiiBYUBFdXFTsumsXdcWvK+uurF1XsIAKiIUiohRBIr2FJj2UJCSB9N4nc35/3MgPpIVkMjOZfJ6PBw+SmXvvfOYa35ycOUVprRFCCFH/Odm6ACGEEJYhgS6EEA5CAl0IIRyEBLoQQjgICXQhhHAQEuhCCOEgJNCFEMJBSKALIYSDkEAXQggH4WLNF/P399chISHWfEkhhKj34uLiMrXWAVc6zqqBHhISws6dO635kkIIUe8ppRKrc5x0uQghhIOQQBdCCAchgS6EEA7Cqn3oF1NRUUFycjKlpaW2LkU4EA8PD4KCgnB1dbV1KUJYjc0DPTk5GW9vb0JCQlBK2boc4QC01mRlZZGcnExoaKityxHCamze5VJaWoqfn5+EubAYpRR+fn7yW59ocGwe6ICEubA4+ZkSDiMnodqH2rzLRQghxJ+YK+HYWtjxCcT/Uu3TJNCFEMIeaA2n98KRFbD3a8hNBK8WMOQZ4KVqXeKKXS5Kqc+VUulKqf3nPNZMKfWLUiq+6u+mNX8Xtufs7EyPHj2IjIxkwoQJFBcXX/S40aNHk5ubWyc1xMbG4uPjQ8+ePencuTOvvvrqFc+ZMWPGZZ9PSEggMjLyvMemT5/OzJkza1VrTcydO5dHH330ssfMnj2b8PBwwsPD6dOnDxs3brzidWNjY9m8ebOlyhTC+vJS4Odn4K0ImD0U1v8HfINhwlz4+wEY/mK1L1WdFvpc4APgy3Meex5Yq7V+Qyn1fNX3z1X/HVzcqz8e4GBqfm0vc56IVk14ZWyXyx7TqFEj9uzZA8CkSZP4+OOPefLJJ88+r7VGa83PP/9s0dr+bPDgwSxfvpyioiJ69OjBmDFj6NWr1yWPnzFjBtOmTavTmqxl+fLlzJo1i40bN+Lv78+uXbsYP34827dvp2XLlpc8LzY2Fi8vLwYMGGDFaoWwAFMZbP0IfnsTzCboOBI6vQxhI8HTv0aXvGILXWu9Hsj+08PjgC+qvv4CGF+jV7dDgwcP5tixYyQkJNC5c2cefvhhoqKiOHXqFCEhIWRmZpKQkEB4eDj33XcfkZGRTJo0iTVr1jBw4EDCwsLYvn07ANu3b2fAgAH07NmTAQMGcOTIkWrV4OnpSa9evTh+/PgFLdsxY8YQGxvL888/T0lJCT169GDSpEk1eq8xMTH87W9/Y8CAAURGRp6t+2Iu9V7mzp3LzTffzHXXXUdYWBjPPvvs2XPmzJlDx44dGTp0KJs2bbpsLf/+979588038fc3fpCjoqKYPHkyH374IcDZew+wc+dOYmJiSEhI4OOPP+btt9+mR48ebNiwoUb3QQirMVdC2kGImwv/GwBrpkP7YfDodrh9HvS4s8ZhDjXvQ2+htT4NoLU+rZRqfqkDlVJTgakAwcHBl73olVrSdc1kMrFixQquu+46AI4cOcKcOXP46KOPLjj22LFjfPfdd8yePZvevXuzYMECNm7cyLJly5gxYwZLly4lPDyc9evX4+Liwpo1a5g2bRqLFi26Yh1ZWVls3bqVl19+mR07dlz0mDfeeIMPPvjg7G8WNVVUVMTmzZtZv349U6ZMYf/+/Rc97nLvZc+ePezevRt3d3c6derEY489houLC6+88gpxcXH4+PgwbNgwevbseck6Dhw4cMFvI9HR0XzxxReXOMMI+QcffBAvLy+efvrpGrx7IeqYqRxSdsLJ9ZCwEVJ2QUWR8ZxfB5i0CMKusdjL1fmHolrr2cBsgOjoaF3Xr1cTf7R0wWih33vvvaSmptK2bVv69et30XNCQ0Pp2rUrAF26dGHEiBEopejatSsJCQkA5OXlMXnyZOLj41FKUVFRcdk6NmzYQM+ePXFycuL555+nS5culwz06rjU0L1zH584cSIAQ4YMIT8/n9zcXHx9fS8453LvZcSIEfj4+AAQERFBYmIimZmZxMTEEBBgrPh5++23c/To0auqX2stww9F/aO1Ed7bZ8OxNVBRDCgI7AY9J0HrXsafZu3BybIjx2sa6GlKqcCq1nkgkG7Joqzt3D70c3l6el7yHHd397NfOzk5nf3eyckJk8kEwMsvv8ywYcNYsmQJCQkJxMTEXLaOP/rQz+Xi4oLZbD77/dVMlvHz8yMnJ+e8x7Kzs8+bPfnnwLxUgF7uvZx7L5ydnc++/6sJ44iICOLi4hg+fPjZx3bt2kVERARw/n2QCUPCLpXmwYElsG02pB+ARk2hxyRoFwMhA43v61hN/3lYBkyu+noy8INlynEseXl5tG7dGjD6mmsiJCSEPXv2YDabOXXq1Hn93K6urpdt9Xt5eREYGMjatWsBI8xXrlzJoEGDzh7zzTffALBx40Z8fHzOtrRr+1769u1LbGwsWVlZVFRU8N133132+GeffZbnnnuOrKwswOjGmTt3Lg8//DBg3Ie4uDiA87qtvL29KSgouGI9QtSJklzYPR/m3wb/aQ8/PgFKwY0fwJOH4IaZ0HmMVcIcqtFCV0p9DcQA/kqpZOAV4A3gW6XUvUASMKEui6yvnn32WSZPnsxbb711XsvzagwcOPBs905kZCRRUVFnn5s6dSrdunUjKiqK+fPnX/T8L7/8kkceeYSnnnoKgFdeeYX27duffb5p06YMGDCA/Px8Pv/8c4u9l8DAQKZPn07//v0JDAwkKiqKysrKSx5/4403kpKSwoABA1BK4e3tzbx58wgMDDxb97333suMGTPo27fv2fPGjh3Lrbfeyg8//MD777/P4MGDr1ibELVWVgBb/web34eyfPAJhr4PQMR4CIo2Qt0GlNbW69aOjo7Wf96x6NChQ3Tu3NlqNYj/LyYmhpkzZxIdHW3rUuqE/GwJiyvKgr0LYOPbUJwF4WNg0N+NPvE6DHGlVJzW+or/o8pMUSGEuJys43DwBzi6Ek5tBzS0GwYjXjaC3I5IoFvZqlWreO658+dghYaGsmTJkhpfMysrixEjRlzw+Nq1a/Hz87vkebGxsRc8NmfOHN59993zHhs4cODZ8eC19frrr1/Qnz5hwgRefLH6s+GEsIqUOKMlfmg5oCGwOwx9FjqNhlY9bF3dRUmXi3BY8rMlaiRxM8T+yxg77uEDve+H6Cng09pmJUmXixBCXI3U3bD2NTi+Frxawsh/Qq97wN3b1pVVmwS6EKLh0hpObTNGqxxeDo2awbWvQZ/7wbWRrau7ahLoQoiGp7wYjq6ALR8afeUevhDzAvR7GDya2Lq6GpNAF0I4vj+m4x9fa/SRp+wCcwU0awejZxqLYrldemZ4fSGBjjFdvWvXrphMJjp37swXX3xB48aNLzhu9OjRLFiw4KJrndRWbGws48aNO29a/syZM7nmGsst3CNEg2MqhwOLjS6VtP3g5AKtekL/RyB0iDEt38nZ1lVajH0F+orn4czvlr1my65w/RuXPcTe1kOvCZPJhIuLff3nFMJmMuNh37ewex4UpEJAOIz7ELrc5BAt8Uuxi02i7Yk9rId+rj/vOjRz5kymT58OGDM9p02bxtChQ3n33XdJTExkxIgRdOvWjREjRpCUlATAPffcw4MPPsjgwYPp2LHj2X80KisreeaZZ+jduzfdunVj1qxZABQWFjJixAiioqLo2rUrP/wgS/WIesBcCTs+g9kx8EE0bJgJzcONJWof3go973LoMAd7a6FfoSVd12y9HvqGDRvOLuMLxiJUzs6X/3UwNzeX3377DTDWNfnLX/7C5MmT+fzzz3n88cdZunQpYPzD8Ntvv3H8+HGGDRvGsWPH+PLLL/Hx8WHHjh2UlZUxcOBARo4cSZs2bViyZAlNmjQhMzOTfv36ceONN8pStsJ+5STCkgchaTO07AajZkDkLeB96d2uHJF9BbqN2Mt66BfrcvnjWpdy++23n/16y5YtLF68GIC77777vN2DbrvtNpycnAgLC6Ndu3YcPnyY1atXs2/fPr7//vuz9cbHxxMUFMS0adNYv349Tk5OpKSkkJaWdtmt4ISwCa1hzwJY8ZyxlspNs6Db7TZbHMvWJNCxn/XQL+ZK66FfrsZzW9QXW/dca83777/PqFGjzntu7ty5ZGRkEBcXh6urKyEhIbIGubAPWkP8amOkStp+4zO3wjRoOxBu+tjYXLkBkz70OmSJ9dBbtGhBeno6WVlZlJWVXfZD0wEDBrBw4UIA5s+ff96659999x1ms5njx49z4sQJOnXqxKhRo/jf//539jeHo0ePUlRURF5eHs2bN8fV1ZV169aRmJhYo9qFsKiiLPjmLlhwmzF+vCAN2o8w1h6f/GODD3OQFnqduto1xP/ch/7SSy9x66238o9//IO+ffsSGhpKeHj4Jc9/7733mDJlCm+++SYBAQHMmTPn7HOdOnVi6NChpKWl8fHHH+Ph4cF9991HQkICUVFRaK0JCAhg6dKlTJo0ibFjxxIdHU2PHj0u+5pCWEX8GvjhYSjJMabk93kAXNxsXZXdkcW5GoB77rmHMWPGcOutt9q6FKuSn616rrwIjqyA378zlq4N6Ay3fGIMRW5gZHEuIUT9YyqDY2uNyUCHf4aKIvBuBUOegcFPg6uHrSu0axLoVlYX66FfSU3774WwmpQ42P4pHP4JyvKMPTi7TYCuEyB4ADjJx33VYReBrrVuMGOcR40adcGoEmF51uxKFLVQmA5rXoU988Ddx9hQucvN0G4oOLvaurp6x+aB7uHhQVZWFn5+fg0m1EXd0lqTlZWFh4f8em63Kk2wfbaxkURFCQx8wuhWqUdrj9sjmwd6UFAQycnJZGRk2LoU4UA8PDwICgqydRniYk5th+V/N8aRd7gGrnsD/MNsXZVDsHmgu7q6nrfCoBDCQRVnw9pXIW4uNGkNt8+D8DENdlZnXbB5oAshHFxhBmz90PjQs6IY+j9qbCbh7mXryhyOBLoQwvIqTZC8Aw4uhbgvwFRqLF075BloEWHr6hyWBLoQwjLKCoyJQId/ghProDQPlLOxWNbgJ6Wf3Aok0IUQNWcqg/hfqmZzrgJTCXi1hM5jocO1xo5AjSy/w5e4OAl0IcTV0doYqbJvIexfDKW50Ngfek4yJgIF9ZGJQDYigS6EqL7MeFg8FVJ3gUsjYyJQtzuMlrizxImtyX8BIcSVaQ07PoXVL4NrIxj7rrEjkEwEsisS6EKIy8tNguVPwrFfjPXHx3/U4LZ2qy9qFehKqb8D9wEa+B34q9ZatrYRwhGUF8Omd2HTO4CC69+EPvfLRCA7VuNAV0q1Bh4HIrTWJUqpb4E7gLkWqk0IYQv5qcaIlQ3/hbxTxvjxa18D3za2rkxcQW27XFyARkqpCqAxkFr7koQQVpd7CrZ9bKxFnnHIeKxFpLFPZ8igy58r7EaNA11rnaKUmgkkASXAaq316j8fp5SaCkwFCA6WPf+EsCsVJbDpPdj4NuhKCO4PPSZC++FGoEv3ik2Vm8wcSy+s9vG16XJpCowDQoFc4Dul1F1a63nnHqe1ng3MBmMLupq+nhDCgsyVcPAHWPOK8aFnxHhjr07pVrEJrTXpBWUcTSvgyJkCDp8p4GBqPvHpBVRUVj82a9Plcg1wUmudAaCUWgwMAOZd9iwhhO2U5MLur2DbbMhLMvbp/MsyY0MJYVWFZSbWH83gl4Np/HY0g+yi8rPP+Xu5EdHKhyEdA4ho1YRx/67eNWsT6ElAP6VUY4wulxHAzsufIoSwquJsOLXN2OItJQ6SthorHrYdBNfNgE6jwcnZ1lU6pKIyE0nZxWQUlJFeUEZ6QSlpeaWczivlTH4ph08XUF5pxrexK8M7Nad7G186tvCmYwsv/Lzca/SatelD36aU+h7YBZiA3VR1rQghbCx5J2ybBQeWgLnCWCSrRQT0uBOiJkNgN1tX6BBKKyrJLiqnzGSmzGR8vfVENpuPZbLnVC4m8/ndJd4eLgT6eNDSpxF/6d+WayJaEN22KS7OllkqoVajXLTWrwCvWKQSIUTtaG0MN/zt38bUfDdviJ5iDDsM7A5ujW1dYb1WUWkmMauYI2cK2JWUw87EHA6k5F0Q2k4Kurb24b7B7eja2ofmTdxp7u2Ov5c7nu51O5dTZooK4QhO74PVL8LJ9dA01JgE1GOiTM2vgYpKM/uS8zieUciJjCJOZBRyPKOQxKzis+Ht7uJE9yBf7h/SjrbNGuPh6oy7ixOe7i50D/LFp7FtNriWQBeiPks/bMzk3LsQGjWF6/9jtMqdbRMo9ZXWmgOp+SzelcKyvSlkFhofULo6K9r6edI+wItRXVrSPsCLDs296BzYBDcX+1tRUgJdiPpGa0jYAJvfh/jVxqqHAx6FwU/L2uPVUGaq5FR2McfSizh8Jp8jZwo4kJpPUnYxbs5OjOjcnLHdWxER2ISgpo0s1r9tDRLoQtQniVtgzXQ4tRU8A2DYS0aL3NPP1pXZpUqz5tDpfLaeyGLriWyOphWQnFPMH93eSkGInycRgU24f0g7xnYLxLexm22LrgUJdCHqg9P74Nd/QvwqY0egG96CHpPA1cPWldmVjIIydiflsC85j30peexJyiG/1ARAqL8n3dv4Mr5na0L9GxPq70XHFl40dnOcGHScdyKEoykrMHYE2v2VseGyhw9cMx36PCAjVv7kZGYRH607xpLdKZjMGmcnRccW3ozuGki/dn70a+dHSx/H/8dPAl0Ie1OaD+vfhB2fQUURBITDyNeNLd4aNbV1dTaXlFVMal4JucUV5JdUsOl4Jj/uTcXV2Ym7+rVlbPdWdGnVBA/XhjdhSgJdCHthNhv7dP7yChSlG1u79bkfWvdq8ItkJWYVsXzfaX7cm8rhMwXnPdfYzZn7B7fj3sGhNPd2/Fb45UigC2FrZQXGjM4dn8HpPRDUG+5caAR5A6O1JquonITMIn5PyWPvqVz2JudxMrMIgF5tm/KPMRGEt/TGp7ErPo1c8fdyb5Ct8YuRQBfCVtIPwcZ34NAyY30V/44w/n9Gy9yp/gyVqw1TpZltJ7NZsf80uxJzScouprDMdPb5Fk3c6R7ky519grm+a0uCmspnB5cjgS6ELeyeDz89ZUwA6nYb9LgLgqIbRNdKRkEZm49nsiE+kzWH0sgtrqCRqzO9Q5vRJ7QZbf0a09avMRGBPg3ig0xLkkAXwpoqSuDnp2H3PAgZDLd8Bt4tbF1VnSo3mdmZkM2vh9PZEJ/JkTSjD7yJhwvDw5tzXWQgQzsG0MhNuk1qSwJdCGswV8Lh5bDuX8YWb4OfhmHTHGrp2pLySk7lFHMqu5iU3BJScko4kVnEluNZFJaZcHN2ondoU8b17MTA9v5EtvbB2cnxfyOxJgl0IepSeTHs/Rq2fADZJ6BpCEz6HsKutXVltVJmqiQuMYdNxzLZfjKbhCxj3e9zuTk7EdS0EWO7BzKsU3MGdvCv89UGGzq5u0JYWqUJTsbCvu+MVnl5IbSKgglfQOex9bZVXmaq5NdD6SzencLG+ExKKipxdlJ0C/JheKfmBPs1pk2zxgQ1bUSQbyP8vdxxkha4VUmgC2EpZjPsmW9M0S88A+4+xlrkPe40Nl+uhx94aq3ZlZTDol0p/LTvNHklFTT3due26CAGhwXQt10zvD1kZUd7IYEuhCUkxxkfdqbugjZ94YaZEDYSXGq2lZgtVZo1xzMKWbX/DIt3p3AyswgPVyeu69KSm6OCGNjBX/q+7ZQEuhA1pbWxR+e2j+HgUmPRrJtmG8MQ61FrvLSikt+OZhB7JIODqXkcSSugtMIMQN/QZjwU057RXQPxkv5vuyf/hYS4WhUlsO9b2P4JpP1uLJo16EkY/GS92SEor6SCDfEZrNx/hl8Pp1NcXom3hwtdW/twV9+2dA5sQp/QZrRpJhN56hMJdCGqK/807PgEds6BkmxoEQlj34WuE8DN09bVXVJpRSXJOSUk5xRz+EwB6w6nszMxh0qzxs/TjfE9WzM6MpC+7ZrhWo82cxAXkkAX4kr+mKK//3tjPHn4DdDvIWg70O66VrTWxKcXsv1kNjsSstmZkENKbsl5x4S39OaBIe0YFt6cnm1869WOPOLyJNCFuJTknbDhLTjyE7g2ht73Qd8HoFk7W1d2gZOZRSzdncIPe1JIyCoGIMDbnT4hzZjYpw1BTY3hhG39PAnwrn8f1IrqkUAX4s+yT8IvL8OhH8HDF4Y+Z2wqYUfbvJWbzOxOymFDfCa/Hc3g95Q8lIJ+oX5MHdKeAe39aOvXGGVnv0GIuiWBLsQfygqMFvmWD8DJxdivs99D4O5l68oAY2JP7JEMlu1NJfZwOkXlxsSeqGBfpo0O58burWUxqwZOAl0IgKRtsOheyDtlLF97zSvQpJXNyskrrmDXqRxSc0tIzS0hMauY345mUFBqopmnG+N6tiamYwD92vvRRCb2iCoS6KJhM1fCxrdh3QzwCYIpqyG4r01KyS0uZ/XBNH7+/TQb4zMxVW1N7+ykaNnEg2sjWnBj91YM7OAvo1HERUmgi4apsgISNhphfvI36HIzjH3HGFNujZc3a345mMavh9NIyCzmZFbR2cWtgpo24t7BoQzv1Pzsh5gyM1NUhwS6aFhO/GasfnhkBZTmgpsXjH0Pov5ilSGIZaZKluxKYfb6E5zILKJpY1fCmnszrFMAIf6eDOrgT9fWPvJhpqgRCXTRMKQdhNUvwfG1Riu84/XGyofth4Nb3c2GNJuNceHbTmax7WQ2W45nkV1UTmTrJnxwZ0+ujwyU1rewmFoFulLKF/gUiAQ0MEVrvcUShQlhEfmpEPsG7P7KmJY/8nXoc3+dLpp1IqOQTccy2XIii60nsskuKgegZRMPBof5M6FXGwZ28JNWuLC42rbQ3wVWaq1vVUq5AbLwg7APhRlG//iOT0FXGuPIhz4LjZvVyculF5SybE8qi3elcPB0PgCtfDyI6RRA/3Z+9GvnR1DTRhLiok7VONCVUk2AIcA9AFrrcqDcMmUJUUMVJbB+Jmz9CEyl0H0iDHkGmoVa9mUqzew9lcumY1lsOp7JzoRszBq6BfnwytgIhoc3J7iZTOwR1lWbFno7IAOYo5TqDsQBT2iti849SCk1FZgKEBwcXIuXE+IKjq+D5X+HnJMQeSvEvAD+HSx2+cIyE7FH0lm5/wyxRzIoLDOhFHRp1YSHYzowvmdrOjS3j0lIomFSWuuanahUNLAVGKi13qaUehfI11q/fKlzoqOj9c6dO2tWqRCXkpcCv75mjF5p1t4Yfhg6xCKXTskt4dfD6fx6KI1Nx7MoN5nx93Ljms4tGNoxgP7t/fBt7GaR1xLiUpRScVrr6CsdV5sWejKQrLXeVvX998DztbieEFcn7SBsfh9+/w7QRtfK4KfBtXbT3wtKK1gUl8w3O5M5VNUfHtysMXf1bct1kS3p1bapjEwRdqnGga61PqOUOqWU6qS1PgKMAA5arjQhLqE0H5Y9Cgd/MFZBjJ4C/R+GpiG1uuyJjELmbEpg8a5kisor6R7kw7TR4QwPb0H7AE/pDxd2r7ajXB4D5leNcDkB/LX2JQlxGXkpsOA2Y43yoc9B3wdrPXIls7CMd9Yc5evtp3BWijHdA5ncP4TubXwtVLQQ1lGrQNda7wGu2K8jhEWc2Q/zJxirIk76DjqMqPGltNYczyhixe+nmbX+BKUVlUzqG8xjw8NkvXBRb8lMUWH/tIb9i+DHvxmTg6asgJZdr/oyecUVLNqVzIb4DHafyiW3uAKAUV1a8Nx14bQLkBEqon6TQBf2Les4/PQUnFgHrXvBbV+BT+urusS+5FzmbU1k2d5USivMdGjuxaiIlkS19SU6pBntJciFg5BAF/apJBe2/s+Y7ensBqNnGh9+OjlX6/S0/FKW7k5hye4UDp8poLGbMzf1DOKufsF0aWWdFRWFsDYJdGFf8k8bszx3zoHyAuhyE4z6FzQJrNbpB1LzePuXo/x6OB2zhh5tfHltXBfG9WwtG0EIhyeBLuyDuRI2/BfWvwlmkxHkA/8Ggd2qdXpCZhFv/XKUZXtT8WnkyiPDOnBTz9bSLy4aFAl0YXuFGbD4fqOfvMvNMOJlaNbuiqcVlFaw9lA6y/elEnskA1dnJx4Z1p6pQ9rj00ha46LhkUAXtpW4Gb6fAsXZ1d5o4kxeKW+sOMTP+89QbjIT6OPBlEGh3DcolOZNZJNk0XBJoAvbMJUZ65RveseY4Xnfmit2r1SaNV9uSeC/q49SUWnmzj7BjO0eSM82TXGSqfhCSKALGzi9F5Y8BOkHoOfdMGoGeDS55OFaa7acyOKNFYfZl5zHkI4B/HNcJMF+svy+EOeSQBfWU5xtDEPc+hE09oM7v4WOoy55eKVZs3L/GWatP86+5DwCvN15f2JPxnQLlHVVhLgICXRR98qLYdvHRvdKab6x6cSo1y+6BktxuYnNx7KIPZrOr4fSSc0rJdTfkxk3deXmqNZ4uFZvHLoQDZEEuqg7ZrOxRvmvr0HBaeh4HYz4B7TocsGhhWUm/rv6CPO3JVFuMtPYzZmBHfx5eUwEI7u0lOVqhagGCXRRNxI2waoXjP7y1tFw6xxo2/+ih649lMbLS/dzOr+UCb2CuLF7a3qHNsXdRVrjQlwNCXRhWRUl8PPTsHseNAmCmz+FyFvAyemCQxMyi/jPqsP8/PsZOrbw4vs7+9Orbd1s4ixEQyCBLiwnJwG+uRvO7INBf4chz4LbhSNR0vNLee/XeBZuP4WLs+LJazvy4ND2uLlcGPpCiOqTQBe1pzUcXQVLHgA0TPwGOl13wWHxaQXM25rINztPYarU3NGnDY8PD5PJQEJYiAS6qJlKEyRthsM/w5GfIDcJWnSF2788b9p+RaWZlfvP8NXWRLafzMbN2Ykx3QN5YkQYbf08bfgGhHA8Euji6mht7OW59v8g+zg4u0O7GBj8FHS97WwXS3ZROV9vT+LLLQmk5ZfRplkjnr8+nAm9gvDzkh2BhKgLEuii+k5ugDWKWaOnAAASuElEQVSvQEocBITDLZ8ZQxHd//+KhiXllbyz5ihzNydQZjIzOMyff93clZiOzWV6vhB1TAJdXJ7WcCIW1s+ExI3QpDWM+9CYHPSnzSY2xmfywpJ9nMou4ZaoIB4c2o6wFt62qVuIBkgCXVzasTWw7l+QshO8A42NJqL/Cq6Nzh6SXlBKXEIOKw+c4Yc9qYT6e7Jwaj/6tfOzYeFCNEwS6OJC6Ydh9YtGoPsGw5i3occkcDH6vjMKyvh800lW/H6ahKxiADxcnXgopj1PjAiT6flC2IgEuvj/CjPgt3/Dzs/BzQtGvg59poKLGwApuSXM/u04C3ecorzSTEzHAO7sG0x0SDMiW/nIOHIhbEwCXUBpHmx+H7Z8BKZSo1slZhp4+nEmr5RVBxJYuf8M205m4aQUN/VszUMx7WV7NyHsjAR6Q6Y1xM2BNa9Caa6xj+ewF8E/jLjEbN79Zjvrj2YA0KG5Fw/HdGBi32Ba+za6woWFELYggd5QmcqNNVd2fQGhQ2DkPyGwOzsSsnl36TY2HsvEz9ONv10TxphugXRoLqNVhLB3EugNUVEWfHs3JG6CQU9iinmR1Ycy+GTJJnYn5eLv5caLozszqV8wjd3kR0SI+kL+b21okrbB4vuh4Az65k9YVDGAd/67nuScEtr6NWb62Ahu7x1MIzcZqSJEfSOB3lCUFRrT9bfPBp82lNz1I9O2u7Nk9156tPHl5TERXNO5hWwkIUQ9JoHeEJyIhR8eg7xT0Gcq8d2e5KFvj3AiI5Mnr+3II8M6SJAL4QBqHehKKWdgJ5CitR5T+5KExZjNsGEmrJsBfh0ovvsnZp0IYNas3Xi5uzLv3r4M6OBv6yqFEBZiiRb6E8AhoIkFriUspSQHFj8A8auojLyNr5v/nbcXpJBVFM/1kS159cYusg65EA6mVoGulAoCbgBeB560SEWi9lJ2wfd/hbwU0gf/k0l7uhK/8yT92jXjs+s706ONr60rFELUgdq20N8BngUuOUhZKTUVmAoQHBxcy5cTl2U2w+b34NfXwKsFa/vP4dFYVzzdK/hscjTDw5ujlPSVC+GoahzoSqkxQLrWOk4pFXOp47TWs4HZANHR0bqmryeuoOCMsQXciVhMncYwnQeZtzaf/u18efeOHtK9IkQDUJsW+kDgRqXUaMADaKKUmqe1vssypYlqO7gMfnwCKko43PufTNnbmdMF+TwxIozHR4TJCBYhGogaB7rW+gXgBYCqFvrTEuZWVpoPK5+HPfMxtejOm55PMWuDCx2au/L9pF70atvU1hUKIaxIxqHXV1Vjy3V+MvGdHuLu+KFkndI8PqIDjwxrj7uLzPQUoqGxSKBrrWOBWEtcS1xBcTasehH2LsDk247/tHyH2Xv96R7kzRe3diO8pYweFaKhkhZ6fbJ/Efz8DLo0j32h9zHlRAxFWS68dEMn/jowVPrKhWjgJNDrA1M5rHoBdnxKoX8PnnaezspDfgwO8+ef4yNp6+dp6wqFEHZAAt3e5afCt5MheTvrmt3OfcljaOnrxcd3RTCqSwsZVy6EOEsC3Z6l7oH5E6gsK+RV16eZf6YXDw1rzyPDOsjytkKIC0ig26vMY+h5t1BQ6cqE4ukU+4bx3YM9iQqWoYhCiIuTQLdH+afRX42nsMzEuOIX6NkjmlfHdcHbw9XWlQkh7JgEur0pyUF/dRNl+ZlMLH2RidcPY+qQ9rauSghRDzjZugBxjqzjmL+6GVPGMaaU/Z3xo2+QMBdCVJu00O2BuRK2fIj+9XVKzc48Uf4YI0bfxr2DQm1dmRCiHpFAt7Ws45gX3Y9TahzrdDT/qJzCAzcO4u5+bW1dmRCinpFAt6WETZi+vpPiskpeLH+Uko7jmD+2i0wUEkLUiAS6rexdiHnpIySZm/O8+0s8eMc1DA9vYeuqhBD1mAS6tWmNXvcv1Pp/s7Uygk8CX+XjyTE083SzdWVCiHpOAt2aTGVULH0U1/3f8q1pKHu6vcKsm3vi5iKDjYQQtSeBbi0lOZTOuxOPlM3MNN2G78jneX1wO1mLRQhhMRLo1pCTQPGcm3HJT+QFHmf05McZHBZg66qEEA5GAr2O6aStlH51B+Xl5fzD6/94bMo9MopFCFEnJNDrUPnuhTgte5Qzlc2Y0/YdXr1rDJ7ucsuFEHVD0qUuaE3Byv/De9tbbDV35vcB7zN9ZDROsqOQEKIOSaBbmrmSrG8fxe/wApboGJpM+ID7u7axdVVCiAZAAt2STOVkfPkXApJWMNf5Vgbe/zZhsmmzEMJKJNAtpbyItE9upUXGZmZ7TGHcw/+iRRMPW1clhGhAJNAtwJyTROant+JfeJRZTZ9k4oPTaCKbUQghrEwCvZYKj6zH/M3deFSW8VnwG9wz+X7cXWS/TyGE9Umg10Lqmg9pvvFlknRz9g3+gvtHDJWZn0IIm5FArwlTOSe+epR2id+wSUXheeccxncMsXVVQogGTgL9KpXnpZP6yQTaFe5hqedtDJz6LgE+jW1dlhBCSKBfjexjOzEtmEjLyhyWtJvO2LuewMVZVkoUQtgHCfRqil/9CW02TyNXe7Ft2AJuihlp65KEEOI8EuhXYC4v5eDcR4lM/Y7dzl3xvusrhobK5s1CCPtT40BXSrUBvgRaAmZgttb6XUsVZg+Kc85w+uPxRJYdYnXTOxgw9V28GslkISGEfapNC90EPKW13qWU8gbilFK/aK0PWqg2m8pPTyJv1mham86wtttMrr35PhmSKISwazUOdK31aeB01dcFSqlDQGug3gd6Tko8pZ+NoWllLnuHfsaI4eNsXZIQQlyRRfrQlVIhQE9g20WemwpMBQgODrbEy9WpjJP70V+Oo7G5hCMjv6LvQPnwUwhRP9R6zJ1SygtYBPxNa53/5+e11rO11tFa6+iAAPvedu30kZ04fzEaZ3M5SWO/pZeEuRCiHqlVC10p5YoR5vO11ostU5JtJO5dj++SiZTgTt6E7+ga2cvWJQkhxFWpcQtdGZ8QfgYc0lq/ZbmSrC9++0r8l0ygAE+KJy2nk4S5EKIeqk2Xy0DgbmC4UmpP1Z/RFqrLao5uX0nQT3eTofxRf11Ju7AIW5ckhBA1UptRLhuBej2O7+Tvm2j18z2kOTWn0dRVtAgMsnVJQghRYw12IZKU+D34LrqDfLxwu+cHCXMhRL3XIAM9/dQxXBbcghlF+cRFtGrbwdYlCSFErTW4QE9LOkrF5zfQyFxM1k0LCenU3dYlCSGERTSoQE85vh/9+fV4mwtIGTufjt0H2LokIYSwmAaz2mLi4V00XngzzphIu/l7OkuYCyEcTIMI9OP7NtF08R2YcSLvtqWERUTbuiQhhLA4h+9yObRtFc0X3UI5bpRMWkaohLkQwkE5dKDvW/c9IT/fRY5TM7h3FW3C5ANQIYTjcthA37ViDuGxU0lxaYPng6tp2UaGJgohHJtD9qHvW/c9Xbc+xTG3TrR+ZDlNfP1sXZIQQtQ5h2uhH9n5Kx1iHybJpa2EuRCiQXGoQE88FEeL5XeT7dQUn/uXSZgLIRoUhwn004lH8PhmAiZcUHcvxb9lG1uXJIQQVuUQgX7m1DH03LE0ooS8m7+mdbvOti5JCCGsrt4HenrKSUyfj8HbnM+ZG7+mfTeZASqEaJjqdaBnnkmi7NPRNDXnkDJmHh2jYmxdkhBC2Ey9DfSM1ASKZl+PnzmLpNFfEt77GluXJIQQNlUvx6GfTjxC5dwb8TfnknDdF0T0HWXrkoQQwubqXaAnH9uPy7zxNKGY5LFfExE93NYlCSGEXahXgZ50dA+NFozHBRPpN31Hp+4DbV2SEELYjXoT6CknDuCx4CacMJN3+1I6dJZVE4UQ4lz14kPR04lHcP5yHK5UkH/bIkIkzIUQ4gJ2H+hpyccxzx1LY4rJuukbQiN627okIYSwS3Yd6MnH9lPx2Wh8zPmcuXEBHaTPXAghLslu+9CP7orFf9ndKDTJY+cTLpOGhBDisuyyhb5n7ULa/DCBUtWIwkk/ER49wtYlCSGE3bOrFro2m9m28HV6H/kvJ1w70PS+JbJqohBCVJPdBHpRQS6HZ99Dv4J17PYcSMeHFuDp7WvrsoQQot6wi0BPOroH88K76FGZzJb2j9PvrldRTnbZGySEEHarVqmplLpOKXVEKXVMKfX81Z6fn5vFllmP0WL+NfiY8zh0zRf0/8trEuZCCFEDNW6hK6WcgQ+Ba4FkYIdSapnW+uCVzs3LyeTw6k/peOhD+pPPDt+RtL3tP0S2Dq1pOUII0eDVpsulD3BMa30CQCm1EBgHXDLQi9JPkvB/kQRXJtNXaQ64dSPrhn/Ru/ugWpQhhBACahforYFT53yfDPT980FKqanAVIAega7kuUexrfkN+HQeRkSfkdK9IoQQFlKbQFcXeUxf8IDWs4HZANHR0br7c7/U4iWFEEJcSm2ax8nAuYPEg4DU2pUjhBCipmoT6DuAMKVUqFLKDbgDWGaZsoQQQlytGne5aK1NSqlHgVWAM/C51vqAxSoTQghxVWo1sUhr/TPws4VqEUIIUQsyxEQIIRyEBLoQQjgICXQhhHAQEuhCCOEglNYXzAWquxdTqgA4UvWtD5Bngcva03X+fA1/INNOaqkv17ncPauv78katdT0Z60uarGn61zuGldzz2z9njpprb2veJTW2mp/gJ3nfD3bQte0m+v8+Rrnvl9b11JfrnO5e1Zf35OVaqnRz5q93hdr3N+ruWe2fk/VrdWWXS4/OuB1pJa6vY491WKp61iqFkuwp/tiqevYUy2WvM5FWbvLZafWOtpqL2hjDe39WoLcs5qR+3b16tM9q26t1m6hz7by69laQ3u/liD3rGbkvl29+nTPqlWrVVvoQggh6o4MWxRCCAchgS6EEA5CAr2WlFKFtq6hPrvS/VNKxSql6sUHV3VJKXWTUkorpcJtXUt9opR6USl1QCm1Tym1Ryl1wa5qjkQCXYj6YSKwEWPfAVENSqn+wBggSmvdDbiG87fNdDgS6BaglIpRSi0/5/sPlFL3VH2doJR6VSm1Syn1u7SwLnS5+ydAKeUFDATupSrQr/AzN1opdVgptVEp9d65xzUwgUCm1roMQGudqbVOVUr1Ukr9ppSKU0qtUkoFwtnfBt9RSm1WSu1XSvWxafU1IIFuHZla6yjgf8DTti5G1DvjgZVa66NAtlIq6lIHKqU8gFnA9VrrQUCAlWq0R6uBNkqpo0qpj5RSQ5VSrsD7wK1a617A58Dr55zjqbUeADxc9Vy9IoFuHYur/o4DQmxYh6ifJgILq75eWPX9pYQDJ7TWJ6u+/7ouC7NnWutCoBcwFcgAvgEeACKBX5RSe4CXMPZD/sPXVeeuB5oopXytWnQt1WrHInGWifP/cfT40/NlVX9XIvf8Yq50/xospZQfMByIVEppjO0eNcb+vRe7Z8q6Fdo3rXUlEAvEKqV+Bx4BDmit+1/qlCt8b9ekhW4ZiUCEUspdKeUDjLB1QfWM3L9LuxX4UmvdVmsdorVuA/zR+r7YPTsMtFNKhVR9f7tVq7UjSqlOSqmwcx7qARwCAqo+MEUp5aqU6nLOMbdXPT4IyNNaW2KFRauR1mItKKVcgDKt9Sml1LfAPiAe2G3byuoHuX/VMhF440+PLQLuBC64Z1rrEqXUw8BKpVQmsN2KtdobL+D9qm4TE3AMo/tlNvBe1T+ELsA7wB8b3OcopTYDTYAp1i+5dmTqfy0opboDn2it692n4fZA7l/dUEp5aa0LlVIK+BCI11q/beu67J1SKhZ4Wmu909a11JR0udSQUupBjA9QXrJ1LfWR3L86dX/VB34HMDZUmGXjeoSVSAtdCCEchLTQhRDCQUigXwWlVBul1Dql1KGq9SGeqHq8mVLqF6VUfNXfTasen1S1hsS+qtln3c+51udKqXSl1H5bvR8hhGORQL86JuAprXVnoB/wiFIqAngeWKu1DgPWVn0PxvCyoVXrSLzG+YvUzwWus1bhQgjHJ4F+FbTWp7XWu6q+LsAY09oaGAd8UXXYFxhTtdFab9Za51Q9vpVzZqRVzUTLtlLpQogGQAK9hqombvQEtgEttNanwQh9oPlFTrkXWGGt+oQQDY9MLKqBqtXvFgF/01rnG8N9L3v8MIxAH2SF8oQQDZS00K9S1Wpti4D5Wus/Ft1KO2cJzkAg/ZzjuwGfAuO01lnWrlcI0XBIoF+Fqpl3nwGHtNZvnfPUMmBy1deTgR+qjg/GWGnx7qqlT4UQos7IxKKrULVgzwbgd8Bc9fA0jH70b4FgIAmYoLXOVkp9CtyCsfgUgElrHV11ra+BGMAfSANe0Vp/ZqW3IoRwQBLoQgjhIKTLRQghHIQEuhBCOAgJdCGEcBAS6EII4SAk0IUQwkFIoAshhIOQQBdCCAfx/wDv3YWanS5tTgAAAABJRU5ErkJggg==\n",
>>>>>>> Stashed changes
      "text/plain": [
       "<Figure size 432x288 with 1 Axes>"
      ]
     },
     "metadata": {
      "needs_background": "light"
     },
     "output_type": "display_data"
    }
   ],
   "source": [
<<<<<<< Updated upstream
    "strike = K\n",
    "call_ren=pd.DataFrame({'Prima':np.exp(-r*ndays)*np.fmax(sim_closes - strike, 0).mean(axis=1)}, index=dates)\n",
    "call_ren.plot();"
   ]
  },
  {
   "cell_type": "markdown",
   "metadata": {},
   "source": [
    "## Intervalo de Confianza"
=======
    "# Definir barrera\n",
    "B = 270\n",
    "# Crear función indicadora\n",
    "I = (sim_closes < B).cumprod(axis=0) > 0\n",
    "# Definir strike\n",
    "strike = K\n",
    "# Calcular la prima de una opción Europea\n",
    "put = pd.DataFrame({'Prima_Europea':np.exp(-r*ndays)*np.fmax(strike - sim_closes, 0)\n",
    "                     .mean(axis=1)},index=dates)\n",
    "# Calcular la prima de una opción barrera\n",
    "putui = pd.DataFrame({'Prima_Put_Up_and_Out':np.exp(-r*ndays)*(I * np.fmax(strike - sim_closes, 0))\n",
    "                       .mean(axis=1)},index=dates)\n",
    "# Graficar el resultado de las dos primas previamente valuadas\n",
    "ax = putui.plot();\n",
    "put.plot(ax=ax);"
   ]
  },
  {
   "cell_type": "code",
   "execution_count": 110,
   "metadata": {},
   "outputs": [
    {
     "data": {
      "text/plain": [
       "Prima_Europea    10.231\n",
       "Name: 2021-09-17 00:00:00, dtype: float64"
      ]
     },
     "execution_count": 110,
     "metadata": {},
     "output_type": "execute_result"
    }
   ],
   "source": [
    "# Europea\n",
    "put.iloc[-1]"
>>>>>>> Stashed changes
   ]
  },
  {
   "cell_type": "code",
<<<<<<< Updated upstream
   "execution_count": 40,
=======
   "execution_count": 111,
>>>>>>> Stashed changes
   "metadata": {},
   "outputs": [
    {
     "name": "stdout",
     "output_type": "stream",
     "text": [
<<<<<<< Updated upstream
      "(15.267738791113382, 17.04560484411831)\n"
=======
      "(array([9.3350352]), array([11.1262762]))\n"
>>>>>>> Stashed changes
     ]
    }
   ],
   "source": [
    "confianza = 0.95\n",
    "sigma_est = sim_closes.iloc[-1].sem()\n",
<<<<<<< Updated upstream
    "mean_est = call_ren.iloc[-1].Prima\n",
=======
    "mean_est = put.iloc[-1]\n",
>>>>>>> Stashed changes
    "# i1 = st.t.interval(confianza,nscen-1, loc=mean_est, scale=sigma_est)\n",
    "i2 = st.norm.interval(confianza, loc=mean_est, scale=sigma_est)\n",
    "print(i2)"
   ]
  },
  {
<<<<<<< Updated upstream
   "cell_type": "markdown",
   "metadata": {},
   "source": [
    "## Valuación Barrera"
   ]
  },
  {
   "cell_type": "code",
   "execution_count": 41,
=======
   "cell_type": "code",
   "execution_count": 112,
>>>>>>> Stashed changes
   "metadata": {},
   "outputs": [
    {
     "data": {
      "text/plain": [
<<<<<<< Updated upstream
       "252.4600067138672"
      ]
     },
     "execution_count": 41,
=======
       "Prima_Put_Up_and_Out    7.907\n",
       "Name: 2021-09-17 00:00:00, dtype: float64"
      ]
     },
     "execution_count": 112,
>>>>>>> Stashed changes
     "metadata": {},
     "output_type": "execute_result"
    }
   ],
   "source": [
<<<<<<< Updated upstream
    "S0"
   ]
  },
  {
   "cell_type": "code",
   "execution_count": 42,
   "metadata": {},
   "outputs": [],
   "source": [
    "pd.set_option('display.max_columns', 15)\n",
    "\n",
    "# Precio barrera\n",
    "B = 250    \n",
    "\n",
    "# Función de activación (knock-outb)\n",
    "# Si en algún momento el precio toca la barrera la opción se activa\n",
    "I = (sim_closes > B).cumprod(axis=0) > 0"
   ]
  },
  {
   "cell_type": "markdown",
   "metadata": {},
   "source": [
    "## Comparación de Primas"
=======
    "putui.iloc[-1]"
>>>>>>> Stashed changes
   ]
  },
  {
   "cell_type": "code",
<<<<<<< Updated upstream
   "execution_count": 43,
   "metadata": {},
   "outputs": [
    {
     "data": {
      "image/png": "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\n",
      "text/plain": [
       "<Figure size 432x288 with 1 Axes>"
      ]
     },
     "metadata": {
      "needs_background": "light"
     },
     "output_type": "display_data"
    }
   ],
   "source": [
    "# Opción Europea\n",
    "call = pd.DataFrame({'Prima_Europea':np.exp(-r*ndays)*np.fmax(sim_closes - strike, 0)\n",
    "                     .mean(axis=1)},index=dates)\n",
    "# Opción barrera\n",
    "callui = pd.DataFrame({'Prima_Call_Down_and_Out':np.exp(-r*ndays)*(I * np.fmax(sim_closes - strike, 0))\n",
    "                       .mean(axis=1)},index=dates)\n",
    "# Comparativo\n",
    "ax = callui.plot();\n",
    "call.plot(ax=ax);\n"
   ]
  },
  {
   "cell_type": "markdown",
   "metadata": {},
   "source": [
    "## Simular Precios - Método de Histograma"
=======
   "execution_count": 113,
   "metadata": {},
   "outputs": [
    {
     "name": "stdout",
     "output_type": "stream",
     "text": [
      "(array([6.9969788]), array([8.81664487]))\n"
     ]
    }
   ],
   "source": [
    "confianza = 0.95\n",
    "sigma_est = sim_closes_hist.iloc[-1].sem()\n",
    "mean_est = putui.iloc[-1]\n",
    "# i1 = st.t.interval(confianza,nscen-1, loc=mean_est, scale=sigma_est)\n",
    "i2 = st.norm.interval(confianza, loc=mean_est, scale=sigma_est)\n",
    "print(i2)"
   ]
  },
  {
   "cell_type": "code",
   "execution_count": 114,
   "metadata": {},
   "outputs": [],
   "source": [
    "# Histograma tomando la tasa libre de riesgo\n",
    "freq, values = np.histogram(ret_appl+r-mu, bins=2000)\n",
    "prob = freq/np.sum(freq)"
>>>>>>> Stashed changes
   ]
  },
  {
   "cell_type": "code",
<<<<<<< Updated upstream
   "execution_count": 44,
   "metadata": {},
   "outputs": [],
   "source": [
    "# Centro mis datos en mi tasa libre de riesgo\n",
    "freq, values = np.histogram(ret_msft-mu+r, bins=10000)\n",
    "# freq = freq.astype('float32')\n",
    "prob = freq/np.sum(freq)\n",
    "\n",
=======
   "execution_count": 115,
   "metadata": {},
   "outputs": [],
   "source": [
>>>>>>> Stashed changes
    "# Datos de la opción y del día de actual\n",
    "today = pd.Timestamp(date.today())\n",
    "expiry = opt_valuar.Expiry\n",
    "\n",
    "# Fechas desde el día de hoy hasta la fecha de cierre del contrato (considerando unicamente los días hábiles)\n",
    "dates = pd.date_range(start=today, end=expiry, freq='B')\n",
    "\n",
    "# Cantidad de escenarios a simular para el método de montecarlo\n",
    "ndays = len(dates)\n",
    "nscen = 10000\n",
    "\n",
    "K = opt_valuar.Strike\n",
<<<<<<< Updated upstream
    "S0 = closes_msft.iloc[-1]\n",
    "\n",
    "ret = np.random.choice(values[1:], (ndays,nscen), p=prob)\n",
    "sim_ret_hist = pd.DataFrame(ret, index=dates)\n",
    "sim_closes_hist = S0*np.exp(sim_ret_hist.cumsum())"
   ]
  },
  {
   "cell_type": "markdown",
   "metadata": {},
   "source": [
    "## Comparación de Primas"
=======
    "S0 = closes_appl.iloc[-1]\n",
    "\n",
    "ret = np.random.choice(values[1:], (ndays,nscen), p=prob)\n",
    "sim_ret_hist = pd.DataFrame(ret, index=dates)\n",
    "sim_closes_hist = S0*np.exp(sim_ret_hist.cumsum())\n",
    "sim_closes_hist.iloc[0,:] = S0"
>>>>>>> Stashed changes
   ]
  },
  {
   "cell_type": "code",
<<<<<<< Updated upstream
   "execution_count": 45,
=======
   "execution_count": 116,
>>>>>>> Stashed changes
   "metadata": {},
   "outputs": [
    {
     "data": {
<<<<<<< Updated upstream
      "image/png": "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\n",
=======
      "image/png": "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\n",
>>>>>>> Stashed changes
      "text/plain": [
       "<Figure size 432x288 with 1 Axes>"
      ]
     },
     "metadata": {
      "needs_background": "light"
     },
     "output_type": "display_data"
    }
   ],
   "source": [
<<<<<<< Updated upstream
    "strike = pd.DataFrame(K*np.ones([ndays,nscen]),index=dates)\n",
    "calleu_hist=pd.DataFrame({'Prima':np.exp(-r*ndays)*np.fmax(sim_closes_hist-strike,np.zeros([ndays,nscen])).T.mean()},index=dates)\n",
    "callb_hist = pd.DataFrame({'Prima':np.exp(-r*ndays)*np.fmax(I*sim_closes_hist-strike,np.zeros([ndays,nscen])).T.mean()},index=dates)\n",
    "\n",
    "ax = callb_hist.plot();\n",
    "calleu_hist.plot(ax=ax);"
   ]
  },
  {
   "cell_type": "markdown",
   "metadata": {},
   "source": [
    "## Intervalo de Confianza"
=======
    "# Definir barrera\n",
    "B = 270\n",
    "# Crear función indicadora\n",
    "I = (sim_closes < B).cumprod(axis=0) > 0\n",
    "# Definir strike\n",
    "strike = K\n",
    "# Calcular la prima de una opción Europea\n",
    "put_hist = pd.DataFrame({'Prima_Europea':np.exp(-r*ndays)*np.fmax(strike - sim_closes_hist, 0)\n",
    "                     .mean(axis=1)},index=dates)\n",
    "# Calcular la prima de una opción barrera\n",
    "putui_hist = pd.DataFrame({'Prima up-and-in':np.exp(-r*ndays)*(I * np.fmax(strike - sim_closes_hist, 0))\n",
    "                       .mean(axis=1)},index=dates)\n",
    "# Graficar el resultado de las dos primas previamente valuadas\n",
    "ax = putui_hist.plot();\n",
    "put_hist.plot(ax=ax);"
   ]
  },
  {
   "cell_type": "code",
   "execution_count": 117,
   "metadata": {},
   "outputs": [
    {
     "data": {
      "text/plain": [
       "Prima_Europea    9.64\n",
       "Name: 2021-09-17 00:00:00, dtype: float64"
      ]
     },
     "execution_count": 117,
     "metadata": {},
     "output_type": "execute_result"
    }
   ],
   "source": [
    "\n",
    "put_hist.iloc[-1]"
>>>>>>> Stashed changes
   ]
  },
  {
   "cell_type": "code",
<<<<<<< Updated upstream
   "execution_count": 46,
=======
   "execution_count": 118,
>>>>>>> Stashed changes
   "metadata": {},
   "outputs": [
    {
     "name": "stdout",
     "output_type": "stream",
     "text": [
<<<<<<< Updated upstream
      "(15.648721386202272, 17.433777213876734)\n"
=======
      "(8.752102263174885, 10.527635408817163)\n"
>>>>>>> Stashed changes
     ]
    }
   ],
   "source": [
    "confianza = 0.95\n",
    "sigma_est = sim_closes_hist.iloc[-1].sem()\n",
<<<<<<< Updated upstream
    "mean_est = calleu_hist.iloc[-1].Prima\n",
=======
    "mean_est = put_hist.iloc[-1].Prima_Europea\n",
>>>>>>> Stashed changes
    "# i1 = st.t.interval(confianza,nscen-1, loc=mean_est, scale=sigma_est)\n",
    "i2 = st.norm.interval(confianza, loc=mean_est, scale=sigma_est)\n",
    "print(i2)"
   ]
  },
  {
<<<<<<< Updated upstream
   "cell_type": "markdown",
   "metadata": {},
   "source": [
    "## Resultados"
   ]
  },
  {
   "cell_type": "code",
   "execution_count": 49,
=======
   "cell_type": "code",
   "execution_count": 119,
>>>>>>> Stashed changes
   "metadata": {},
   "outputs": [
    {
     "data": {
<<<<<<< Updated upstream
      "text/html": [
       "<div>\n",
       "<style scoped>\n",
       "    .dataframe tbody tr th:only-of-type {\n",
       "        vertical-align: middle;\n",
       "    }\n",
       "\n",
       "    .dataframe tbody tr th {\n",
       "        vertical-align: top;\n",
       "    }\n",
       "\n",
       "    .dataframe thead th {\n",
       "        text-align: right;\n",
       "    }\n",
       "</style>\n",
       "<table border=\"1\" class=\"dataframe\">\n",
       "  <thead>\n",
       "    <tr style=\"text-align: right;\">\n",
       "      <th></th>\n",
       "      <th>Real</th>\n",
       "      <th>Call Europeo normal</th>\n",
       "      <th>Call D&amp;O normal</th>\n",
       "      <th>Call Europeo histograma</th>\n",
       "      <th>Call D&amp;O histograma</th>\n",
       "    </tr>\n",
       "  </thead>\n",
       "  <tbody>\n",
       "    <tr>\n",
       "      <th>Precio</th>\n",
       "      <td>10.4</td>\n",
       "      <td>16.157</td>\n",
       "      <td>4.777</td>\n",
       "      <td>16.541</td>\n",
       "      <td>1.555</td>\n",
       "    </tr>\n",
       "  </tbody>\n",
       "</table>\n",
       "</div>"
      ],
      "text/plain": [
       "        Real  Call Europeo normal  Call D&O normal  Call Europeo histograma  \\\n",
       "Precio  10.4               16.157            4.777                   16.541   \n",
       "\n",
       "        Call D&O histograma  \n",
       "Precio                1.555  "
      ]
     },
     "execution_count": 49,
=======
      "text/plain": [
       "Prima up-and-in    3.321\n",
       "Name: 2021-09-17 00:00:00, dtype: float64"
      ]
     },
     "execution_count": 119,
>>>>>>> Stashed changes
     "metadata": {},
     "output_type": "execute_result"
    }
   ],
   "source": [
<<<<<<< Updated upstream
    "call_final= pd.DataFrame(index=['Precio'] , columns=['Real','Call Europeo normal', 'Call D&O normal',\n",
    "                                                     'Call Europeo histograma', 'Call D&O histograma'])\n",
    "call_final['Real'] = opt_valuar['JSON']['lastPrice']\n",
    "call_final['Call Europeo normal'] = call.iloc[-1].values\n",
    "call_final['Call D&O normal'] =  callui.iloc[-1].values\n",
    "call_final['Call Europeo histograma'] = calleu_hist.iloc[-1].values\n",
    "call_final['Call D&O histograma'] =  callb_hist.iloc[-1].values\n",
    "call_final"
=======
    "putui_hist.iloc[-1]"
   ]
  },
  {
   "cell_type": "code",
   "execution_count": 120,
   "metadata": {},
   "outputs": [
    {
     "name": "stdout",
     "output_type": "stream",
     "text": [
      "(array([2.43370103]), array([4.20923418]))\n"
     ]
    }
   ],
   "source": [
    "confianza = 0.95\n",
    "sigma_est = sim_closes_hist.iloc[-1].sem()\n",
    "mean_est = putui_hist.iloc[-1]\n",
    "# i1 = st.t.interval(confianza,nscen-1, loc=mean_est, scale=sigma_est)\n",
    "i2 = st.norm.interval(confianza, loc=mean_est, scale=sigma_est)\n",
    "print(i2)"
>>>>>>> Stashed changes
   ]
  },
  {
   "cell_type": "code",
   "execution_count": null,
   "metadata": {},
   "outputs": [],
   "source": []
  }
 ],
 "metadata": {
  "kernelspec": {
   "display_name": "Python 3",
   "language": "python",
   "name": "python3"
  },
  "language_info": {
   "codemirror_mode": {
    "name": "ipython",
    "version": 3
   },
   "file_extension": ".py",
   "mimetype": "text/x-python",
   "name": "python",
   "nbconvert_exporter": "python",
   "pygments_lexer": "ipython3",
   "version": "3.7.3"
  }
 },
 "nbformat": 4,
 "nbformat_minor": 2
}
